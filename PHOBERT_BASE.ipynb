{
  "nbformat": 4,
  "nbformat_minor": 0,
  "metadata": {
    "colab": {
      "provenance": [],
      "toc_visible": true,
      "include_colab_link": true
    },
    "kernelspec": {
      "name": "python3",
      "display_name": "Python 3"
    },
    "language_info": {
      "name": "python"
    },
    "accelerator": "GPU",
    "gpuClass": "standard",
    "widgets": {
      "application/vnd.jupyter.widget-state+json": {
        "c3f8819813884e568e6468b34e6dcab3": {
          "model_module": "@jupyter-widgets/controls",
          "model_name": "HBoxModel",
          "model_module_version": "1.5.0",
          "state": {
            "_dom_classes": [],
            "_model_module": "@jupyter-widgets/controls",
            "_model_module_version": "1.5.0",
            "_model_name": "HBoxModel",
            "_view_count": null,
            "_view_module": "@jupyter-widgets/controls",
            "_view_module_version": "1.5.0",
            "_view_name": "HBoxView",
            "box_style": "",
            "children": [
              "IPY_MODEL_2f11b21373d6425d8ddbcfcfca07e8d5",
              "IPY_MODEL_87b58c530edf4b20bd956150c1b73f8b",
              "IPY_MODEL_0af41646d9434c0a96d6d59b04ce99e7"
            ],
            "layout": "IPY_MODEL_da0fb2104b594728930ad4299c11ee18"
          }
        },
        "2f11b21373d6425d8ddbcfcfca07e8d5": {
          "model_module": "@jupyter-widgets/controls",
          "model_name": "HTMLModel",
          "model_module_version": "1.5.0",
          "state": {
            "_dom_classes": [],
            "_model_module": "@jupyter-widgets/controls",
            "_model_module_version": "1.5.0",
            "_model_name": "HTMLModel",
            "_view_count": null,
            "_view_module": "@jupyter-widgets/controls",
            "_view_module_version": "1.5.0",
            "_view_name": "HTMLView",
            "description": "",
            "description_tooltip": null,
            "layout": "IPY_MODEL_d22108c032ff4d05990c2b34c6eea752",
            "placeholder": "​",
            "style": "IPY_MODEL_6d207aa7ab354d238a82c6b39ad85a9b",
            "value": "Downloading: 100%"
          }
        },
        "87b58c530edf4b20bd956150c1b73f8b": {
          "model_module": "@jupyter-widgets/controls",
          "model_name": "FloatProgressModel",
          "model_module_version": "1.5.0",
          "state": {
            "_dom_classes": [],
            "_model_module": "@jupyter-widgets/controls",
            "_model_module_version": "1.5.0",
            "_model_name": "FloatProgressModel",
            "_view_count": null,
            "_view_module": "@jupyter-widgets/controls",
            "_view_module_version": "1.5.0",
            "_view_name": "ProgressView",
            "bar_style": "success",
            "description": "",
            "description_tooltip": null,
            "layout": "IPY_MODEL_591d2bb87a3a48b3be19531afaca2284",
            "max": 557,
            "min": 0,
            "orientation": "horizontal",
            "style": "IPY_MODEL_2ca09b299a9441ad8b3cc2924381775e",
            "value": 557
          }
        },
        "0af41646d9434c0a96d6d59b04ce99e7": {
          "model_module": "@jupyter-widgets/controls",
          "model_name": "HTMLModel",
          "model_module_version": "1.5.0",
          "state": {
            "_dom_classes": [],
            "_model_module": "@jupyter-widgets/controls",
            "_model_module_version": "1.5.0",
            "_model_name": "HTMLModel",
            "_view_count": null,
            "_view_module": "@jupyter-widgets/controls",
            "_view_module_version": "1.5.0",
            "_view_name": "HTMLView",
            "description": "",
            "description_tooltip": null,
            "layout": "IPY_MODEL_f45965c19657424da7e7ed280b39c7ef",
            "placeholder": "​",
            "style": "IPY_MODEL_3bfed50423c74b53aefbc79c642fa874",
            "value": " 557/557 [00:00&lt;00:00, 21.6kB/s]"
          }
        },
        "da0fb2104b594728930ad4299c11ee18": {
          "model_module": "@jupyter-widgets/base",
          "model_name": "LayoutModel",
          "model_module_version": "1.2.0",
          "state": {
            "_model_module": "@jupyter-widgets/base",
            "_model_module_version": "1.2.0",
            "_model_name": "LayoutModel",
            "_view_count": null,
            "_view_module": "@jupyter-widgets/base",
            "_view_module_version": "1.2.0",
            "_view_name": "LayoutView",
            "align_content": null,
            "align_items": null,
            "align_self": null,
            "border": null,
            "bottom": null,
            "display": null,
            "flex": null,
            "flex_flow": null,
            "grid_area": null,
            "grid_auto_columns": null,
            "grid_auto_flow": null,
            "grid_auto_rows": null,
            "grid_column": null,
            "grid_gap": null,
            "grid_row": null,
            "grid_template_areas": null,
            "grid_template_columns": null,
            "grid_template_rows": null,
            "height": null,
            "justify_content": null,
            "justify_items": null,
            "left": null,
            "margin": null,
            "max_height": null,
            "max_width": null,
            "min_height": null,
            "min_width": null,
            "object_fit": null,
            "object_position": null,
            "order": null,
            "overflow": null,
            "overflow_x": null,
            "overflow_y": null,
            "padding": null,
            "right": null,
            "top": null,
            "visibility": null,
            "width": null
          }
        },
        "d22108c032ff4d05990c2b34c6eea752": {
          "model_module": "@jupyter-widgets/base",
          "model_name": "LayoutModel",
          "model_module_version": "1.2.0",
          "state": {
            "_model_module": "@jupyter-widgets/base",
            "_model_module_version": "1.2.0",
            "_model_name": "LayoutModel",
            "_view_count": null,
            "_view_module": "@jupyter-widgets/base",
            "_view_module_version": "1.2.0",
            "_view_name": "LayoutView",
            "align_content": null,
            "align_items": null,
            "align_self": null,
            "border": null,
            "bottom": null,
            "display": null,
            "flex": null,
            "flex_flow": null,
            "grid_area": null,
            "grid_auto_columns": null,
            "grid_auto_flow": null,
            "grid_auto_rows": null,
            "grid_column": null,
            "grid_gap": null,
            "grid_row": null,
            "grid_template_areas": null,
            "grid_template_columns": null,
            "grid_template_rows": null,
            "height": null,
            "justify_content": null,
            "justify_items": null,
            "left": null,
            "margin": null,
            "max_height": null,
            "max_width": null,
            "min_height": null,
            "min_width": null,
            "object_fit": null,
            "object_position": null,
            "order": null,
            "overflow": null,
            "overflow_x": null,
            "overflow_y": null,
            "padding": null,
            "right": null,
            "top": null,
            "visibility": null,
            "width": null
          }
        },
        "6d207aa7ab354d238a82c6b39ad85a9b": {
          "model_module": "@jupyter-widgets/controls",
          "model_name": "DescriptionStyleModel",
          "model_module_version": "1.5.0",
          "state": {
            "_model_module": "@jupyter-widgets/controls",
            "_model_module_version": "1.5.0",
            "_model_name": "DescriptionStyleModel",
            "_view_count": null,
            "_view_module": "@jupyter-widgets/base",
            "_view_module_version": "1.2.0",
            "_view_name": "StyleView",
            "description_width": ""
          }
        },
        "591d2bb87a3a48b3be19531afaca2284": {
          "model_module": "@jupyter-widgets/base",
          "model_name": "LayoutModel",
          "model_module_version": "1.2.0",
          "state": {
            "_model_module": "@jupyter-widgets/base",
            "_model_module_version": "1.2.0",
            "_model_name": "LayoutModel",
            "_view_count": null,
            "_view_module": "@jupyter-widgets/base",
            "_view_module_version": "1.2.0",
            "_view_name": "LayoutView",
            "align_content": null,
            "align_items": null,
            "align_self": null,
            "border": null,
            "bottom": null,
            "display": null,
            "flex": null,
            "flex_flow": null,
            "grid_area": null,
            "grid_auto_columns": null,
            "grid_auto_flow": null,
            "grid_auto_rows": null,
            "grid_column": null,
            "grid_gap": null,
            "grid_row": null,
            "grid_template_areas": null,
            "grid_template_columns": null,
            "grid_template_rows": null,
            "height": null,
            "justify_content": null,
            "justify_items": null,
            "left": null,
            "margin": null,
            "max_height": null,
            "max_width": null,
            "min_height": null,
            "min_width": null,
            "object_fit": null,
            "object_position": null,
            "order": null,
            "overflow": null,
            "overflow_x": null,
            "overflow_y": null,
            "padding": null,
            "right": null,
            "top": null,
            "visibility": null,
            "width": null
          }
        },
        "2ca09b299a9441ad8b3cc2924381775e": {
          "model_module": "@jupyter-widgets/controls",
          "model_name": "ProgressStyleModel",
          "model_module_version": "1.5.0",
          "state": {
            "_model_module": "@jupyter-widgets/controls",
            "_model_module_version": "1.5.0",
            "_model_name": "ProgressStyleModel",
            "_view_count": null,
            "_view_module": "@jupyter-widgets/base",
            "_view_module_version": "1.2.0",
            "_view_name": "StyleView",
            "bar_color": null,
            "description_width": ""
          }
        },
        "f45965c19657424da7e7ed280b39c7ef": {
          "model_module": "@jupyter-widgets/base",
          "model_name": "LayoutModel",
          "model_module_version": "1.2.0",
          "state": {
            "_model_module": "@jupyter-widgets/base",
            "_model_module_version": "1.2.0",
            "_model_name": "LayoutModel",
            "_view_count": null,
            "_view_module": "@jupyter-widgets/base",
            "_view_module_version": "1.2.0",
            "_view_name": "LayoutView",
            "align_content": null,
            "align_items": null,
            "align_self": null,
            "border": null,
            "bottom": null,
            "display": null,
            "flex": null,
            "flex_flow": null,
            "grid_area": null,
            "grid_auto_columns": null,
            "grid_auto_flow": null,
            "grid_auto_rows": null,
            "grid_column": null,
            "grid_gap": null,
            "grid_row": null,
            "grid_template_areas": null,
            "grid_template_columns": null,
            "grid_template_rows": null,
            "height": null,
            "justify_content": null,
            "justify_items": null,
            "left": null,
            "margin": null,
            "max_height": null,
            "max_width": null,
            "min_height": null,
            "min_width": null,
            "object_fit": null,
            "object_position": null,
            "order": null,
            "overflow": null,
            "overflow_x": null,
            "overflow_y": null,
            "padding": null,
            "right": null,
            "top": null,
            "visibility": null,
            "width": null
          }
        },
        "3bfed50423c74b53aefbc79c642fa874": {
          "model_module": "@jupyter-widgets/controls",
          "model_name": "DescriptionStyleModel",
          "model_module_version": "1.5.0",
          "state": {
            "_model_module": "@jupyter-widgets/controls",
            "_model_module_version": "1.5.0",
            "_model_name": "DescriptionStyleModel",
            "_view_count": null,
            "_view_module": "@jupyter-widgets/base",
            "_view_module_version": "1.2.0",
            "_view_name": "StyleView",
            "description_width": ""
          }
        },
        "b310d77bd7e840f9beebe1bff6535fbb": {
          "model_module": "@jupyter-widgets/controls",
          "model_name": "HBoxModel",
          "model_module_version": "1.5.0",
          "state": {
            "_dom_classes": [],
            "_model_module": "@jupyter-widgets/controls",
            "_model_module_version": "1.5.0",
            "_model_name": "HBoxModel",
            "_view_count": null,
            "_view_module": "@jupyter-widgets/controls",
            "_view_module_version": "1.5.0",
            "_view_name": "HBoxView",
            "box_style": "",
            "children": [
              "IPY_MODEL_189dfb70792a45c29d23f5b790751339",
              "IPY_MODEL_ca3c437b5208416ba5fae674246557fa",
              "IPY_MODEL_ece865726cf14c23ada9331d4a2bff5d"
            ],
            "layout": "IPY_MODEL_cf009c2b21f44a5aaae1b4edd8c055e0"
          }
        },
        "189dfb70792a45c29d23f5b790751339": {
          "model_module": "@jupyter-widgets/controls",
          "model_name": "HTMLModel",
          "model_module_version": "1.5.0",
          "state": {
            "_dom_classes": [],
            "_model_module": "@jupyter-widgets/controls",
            "_model_module_version": "1.5.0",
            "_model_name": "HTMLModel",
            "_view_count": null,
            "_view_module": "@jupyter-widgets/controls",
            "_view_module_version": "1.5.0",
            "_view_name": "HTMLView",
            "description": "",
            "description_tooltip": null,
            "layout": "IPY_MODEL_f8fe4372f3d0478dbfa639f8251b26e8",
            "placeholder": "​",
            "style": "IPY_MODEL_cb5722094c6f4d5387085ceed383b2ea",
            "value": "Downloading: 100%"
          }
        },
        "ca3c437b5208416ba5fae674246557fa": {
          "model_module": "@jupyter-widgets/controls",
          "model_name": "FloatProgressModel",
          "model_module_version": "1.5.0",
          "state": {
            "_dom_classes": [],
            "_model_module": "@jupyter-widgets/controls",
            "_model_module_version": "1.5.0",
            "_model_name": "FloatProgressModel",
            "_view_count": null,
            "_view_module": "@jupyter-widgets/controls",
            "_view_module_version": "1.5.0",
            "_view_name": "ProgressView",
            "bar_style": "success",
            "description": "",
            "description_tooltip": null,
            "layout": "IPY_MODEL_298f066781844a37b88d8993c393515c",
            "max": 895321,
            "min": 0,
            "orientation": "horizontal",
            "style": "IPY_MODEL_af66c49fe2e04a91bd3363728c24dded",
            "value": 895321
          }
        },
        "ece865726cf14c23ada9331d4a2bff5d": {
          "model_module": "@jupyter-widgets/controls",
          "model_name": "HTMLModel",
          "model_module_version": "1.5.0",
          "state": {
            "_dom_classes": [],
            "_model_module": "@jupyter-widgets/controls",
            "_model_module_version": "1.5.0",
            "_model_name": "HTMLModel",
            "_view_count": null,
            "_view_module": "@jupyter-widgets/controls",
            "_view_module_version": "1.5.0",
            "_view_name": "HTMLView",
            "description": "",
            "description_tooltip": null,
            "layout": "IPY_MODEL_58899af6fc15487d962f398faf53614c",
            "placeholder": "​",
            "style": "IPY_MODEL_6038e4d9bf4c43a998b3294242c93bc1",
            "value": " 895k/895k [00:01&lt;00:00, 1.06MB/s]"
          }
        },
        "cf009c2b21f44a5aaae1b4edd8c055e0": {
          "model_module": "@jupyter-widgets/base",
          "model_name": "LayoutModel",
          "model_module_version": "1.2.0",
          "state": {
            "_model_module": "@jupyter-widgets/base",
            "_model_module_version": "1.2.0",
            "_model_name": "LayoutModel",
            "_view_count": null,
            "_view_module": "@jupyter-widgets/base",
            "_view_module_version": "1.2.0",
            "_view_name": "LayoutView",
            "align_content": null,
            "align_items": null,
            "align_self": null,
            "border": null,
            "bottom": null,
            "display": null,
            "flex": null,
            "flex_flow": null,
            "grid_area": null,
            "grid_auto_columns": null,
            "grid_auto_flow": null,
            "grid_auto_rows": null,
            "grid_column": null,
            "grid_gap": null,
            "grid_row": null,
            "grid_template_areas": null,
            "grid_template_columns": null,
            "grid_template_rows": null,
            "height": null,
            "justify_content": null,
            "justify_items": null,
            "left": null,
            "margin": null,
            "max_height": null,
            "max_width": null,
            "min_height": null,
            "min_width": null,
            "object_fit": null,
            "object_position": null,
            "order": null,
            "overflow": null,
            "overflow_x": null,
            "overflow_y": null,
            "padding": null,
            "right": null,
            "top": null,
            "visibility": null,
            "width": null
          }
        },
        "f8fe4372f3d0478dbfa639f8251b26e8": {
          "model_module": "@jupyter-widgets/base",
          "model_name": "LayoutModel",
          "model_module_version": "1.2.0",
          "state": {
            "_model_module": "@jupyter-widgets/base",
            "_model_module_version": "1.2.0",
            "_model_name": "LayoutModel",
            "_view_count": null,
            "_view_module": "@jupyter-widgets/base",
            "_view_module_version": "1.2.0",
            "_view_name": "LayoutView",
            "align_content": null,
            "align_items": null,
            "align_self": null,
            "border": null,
            "bottom": null,
            "display": null,
            "flex": null,
            "flex_flow": null,
            "grid_area": null,
            "grid_auto_columns": null,
            "grid_auto_flow": null,
            "grid_auto_rows": null,
            "grid_column": null,
            "grid_gap": null,
            "grid_row": null,
            "grid_template_areas": null,
            "grid_template_columns": null,
            "grid_template_rows": null,
            "height": null,
            "justify_content": null,
            "justify_items": null,
            "left": null,
            "margin": null,
            "max_height": null,
            "max_width": null,
            "min_height": null,
            "min_width": null,
            "object_fit": null,
            "object_position": null,
            "order": null,
            "overflow": null,
            "overflow_x": null,
            "overflow_y": null,
            "padding": null,
            "right": null,
            "top": null,
            "visibility": null,
            "width": null
          }
        },
        "cb5722094c6f4d5387085ceed383b2ea": {
          "model_module": "@jupyter-widgets/controls",
          "model_name": "DescriptionStyleModel",
          "model_module_version": "1.5.0",
          "state": {
            "_model_module": "@jupyter-widgets/controls",
            "_model_module_version": "1.5.0",
            "_model_name": "DescriptionStyleModel",
            "_view_count": null,
            "_view_module": "@jupyter-widgets/base",
            "_view_module_version": "1.2.0",
            "_view_name": "StyleView",
            "description_width": ""
          }
        },
        "298f066781844a37b88d8993c393515c": {
          "model_module": "@jupyter-widgets/base",
          "model_name": "LayoutModel",
          "model_module_version": "1.2.0",
          "state": {
            "_model_module": "@jupyter-widgets/base",
            "_model_module_version": "1.2.0",
            "_model_name": "LayoutModel",
            "_view_count": null,
            "_view_module": "@jupyter-widgets/base",
            "_view_module_version": "1.2.0",
            "_view_name": "LayoutView",
            "align_content": null,
            "align_items": null,
            "align_self": null,
            "border": null,
            "bottom": null,
            "display": null,
            "flex": null,
            "flex_flow": null,
            "grid_area": null,
            "grid_auto_columns": null,
            "grid_auto_flow": null,
            "grid_auto_rows": null,
            "grid_column": null,
            "grid_gap": null,
            "grid_row": null,
            "grid_template_areas": null,
            "grid_template_columns": null,
            "grid_template_rows": null,
            "height": null,
            "justify_content": null,
            "justify_items": null,
            "left": null,
            "margin": null,
            "max_height": null,
            "max_width": null,
            "min_height": null,
            "min_width": null,
            "object_fit": null,
            "object_position": null,
            "order": null,
            "overflow": null,
            "overflow_x": null,
            "overflow_y": null,
            "padding": null,
            "right": null,
            "top": null,
            "visibility": null,
            "width": null
          }
        },
        "af66c49fe2e04a91bd3363728c24dded": {
          "model_module": "@jupyter-widgets/controls",
          "model_name": "ProgressStyleModel",
          "model_module_version": "1.5.0",
          "state": {
            "_model_module": "@jupyter-widgets/controls",
            "_model_module_version": "1.5.0",
            "_model_name": "ProgressStyleModel",
            "_view_count": null,
            "_view_module": "@jupyter-widgets/base",
            "_view_module_version": "1.2.0",
            "_view_name": "StyleView",
            "bar_color": null,
            "description_width": ""
          }
        },
        "58899af6fc15487d962f398faf53614c": {
          "model_module": "@jupyter-widgets/base",
          "model_name": "LayoutModel",
          "model_module_version": "1.2.0",
          "state": {
            "_model_module": "@jupyter-widgets/base",
            "_model_module_version": "1.2.0",
            "_model_name": "LayoutModel",
            "_view_count": null,
            "_view_module": "@jupyter-widgets/base",
            "_view_module_version": "1.2.0",
            "_view_name": "LayoutView",
            "align_content": null,
            "align_items": null,
            "align_self": null,
            "border": null,
            "bottom": null,
            "display": null,
            "flex": null,
            "flex_flow": null,
            "grid_area": null,
            "grid_auto_columns": null,
            "grid_auto_flow": null,
            "grid_auto_rows": null,
            "grid_column": null,
            "grid_gap": null,
            "grid_row": null,
            "grid_template_areas": null,
            "grid_template_columns": null,
            "grid_template_rows": null,
            "height": null,
            "justify_content": null,
            "justify_items": null,
            "left": null,
            "margin": null,
            "max_height": null,
            "max_width": null,
            "min_height": null,
            "min_width": null,
            "object_fit": null,
            "object_position": null,
            "order": null,
            "overflow": null,
            "overflow_x": null,
            "overflow_y": null,
            "padding": null,
            "right": null,
            "top": null,
            "visibility": null,
            "width": null
          }
        },
        "6038e4d9bf4c43a998b3294242c93bc1": {
          "model_module": "@jupyter-widgets/controls",
          "model_name": "DescriptionStyleModel",
          "model_module_version": "1.5.0",
          "state": {
            "_model_module": "@jupyter-widgets/controls",
            "_model_module_version": "1.5.0",
            "_model_name": "DescriptionStyleModel",
            "_view_count": null,
            "_view_module": "@jupyter-widgets/base",
            "_view_module_version": "1.2.0",
            "_view_name": "StyleView",
            "description_width": ""
          }
        },
        "cd67ab0227214c9884883d6408a6b36d": {
          "model_module": "@jupyter-widgets/controls",
          "model_name": "HBoxModel",
          "model_module_version": "1.5.0",
          "state": {
            "_dom_classes": [],
            "_model_module": "@jupyter-widgets/controls",
            "_model_module_version": "1.5.0",
            "_model_name": "HBoxModel",
            "_view_count": null,
            "_view_module": "@jupyter-widgets/controls",
            "_view_module_version": "1.5.0",
            "_view_name": "HBoxView",
            "box_style": "",
            "children": [
              "IPY_MODEL_22dfade2f1944127bccca523c92ed803",
              "IPY_MODEL_886df8f1958f4dd5ac96105aaa77a48d",
              "IPY_MODEL_e78b2b39e4c04db388e22a57f2fdb577"
            ],
            "layout": "IPY_MODEL_66ca634fe0714ddfa0d95e364b9cabc4"
          }
        },
        "22dfade2f1944127bccca523c92ed803": {
          "model_module": "@jupyter-widgets/controls",
          "model_name": "HTMLModel",
          "model_module_version": "1.5.0",
          "state": {
            "_dom_classes": [],
            "_model_module": "@jupyter-widgets/controls",
            "_model_module_version": "1.5.0",
            "_model_name": "HTMLModel",
            "_view_count": null,
            "_view_module": "@jupyter-widgets/controls",
            "_view_module_version": "1.5.0",
            "_view_name": "HTMLView",
            "description": "",
            "description_tooltip": null,
            "layout": "IPY_MODEL_a40664ded8934e5c9abe4bf141a8d6af",
            "placeholder": "​",
            "style": "IPY_MODEL_2e930898213e4baba2c85da3f729f172",
            "value": "Downloading: 100%"
          }
        },
        "886df8f1958f4dd5ac96105aaa77a48d": {
          "model_module": "@jupyter-widgets/controls",
          "model_name": "FloatProgressModel",
          "model_module_version": "1.5.0",
          "state": {
            "_dom_classes": [],
            "_model_module": "@jupyter-widgets/controls",
            "_model_module_version": "1.5.0",
            "_model_name": "FloatProgressModel",
            "_view_count": null,
            "_view_module": "@jupyter-widgets/controls",
            "_view_module_version": "1.5.0",
            "_view_name": "ProgressView",
            "bar_style": "success",
            "description": "",
            "description_tooltip": null,
            "layout": "IPY_MODEL_594dad4fa93b470cb203f032eed89be9",
            "max": 1135173,
            "min": 0,
            "orientation": "horizontal",
            "style": "IPY_MODEL_8c1747182972404f9dda9b98710b7626",
            "value": 1135173
          }
        },
        "e78b2b39e4c04db388e22a57f2fdb577": {
          "model_module": "@jupyter-widgets/controls",
          "model_name": "HTMLModel",
          "model_module_version": "1.5.0",
          "state": {
            "_dom_classes": [],
            "_model_module": "@jupyter-widgets/controls",
            "_model_module_version": "1.5.0",
            "_model_name": "HTMLModel",
            "_view_count": null,
            "_view_module": "@jupyter-widgets/controls",
            "_view_module_version": "1.5.0",
            "_view_name": "HTMLView",
            "description": "",
            "description_tooltip": null,
            "layout": "IPY_MODEL_9e953044306644038a7c18c59521f91a",
            "placeholder": "​",
            "style": "IPY_MODEL_a2ad726a7c984369a2129858b3541f9e",
            "value": " 1.14M/1.14M [00:01&lt;00:00, 930kB/s]"
          }
        },
        "66ca634fe0714ddfa0d95e364b9cabc4": {
          "model_module": "@jupyter-widgets/base",
          "model_name": "LayoutModel",
          "model_module_version": "1.2.0",
          "state": {
            "_model_module": "@jupyter-widgets/base",
            "_model_module_version": "1.2.0",
            "_model_name": "LayoutModel",
            "_view_count": null,
            "_view_module": "@jupyter-widgets/base",
            "_view_module_version": "1.2.0",
            "_view_name": "LayoutView",
            "align_content": null,
            "align_items": null,
            "align_self": null,
            "border": null,
            "bottom": null,
            "display": null,
            "flex": null,
            "flex_flow": null,
            "grid_area": null,
            "grid_auto_columns": null,
            "grid_auto_flow": null,
            "grid_auto_rows": null,
            "grid_column": null,
            "grid_gap": null,
            "grid_row": null,
            "grid_template_areas": null,
            "grid_template_columns": null,
            "grid_template_rows": null,
            "height": null,
            "justify_content": null,
            "justify_items": null,
            "left": null,
            "margin": null,
            "max_height": null,
            "max_width": null,
            "min_height": null,
            "min_width": null,
            "object_fit": null,
            "object_position": null,
            "order": null,
            "overflow": null,
            "overflow_x": null,
            "overflow_y": null,
            "padding": null,
            "right": null,
            "top": null,
            "visibility": null,
            "width": null
          }
        },
        "a40664ded8934e5c9abe4bf141a8d6af": {
          "model_module": "@jupyter-widgets/base",
          "model_name": "LayoutModel",
          "model_module_version": "1.2.0",
          "state": {
            "_model_module": "@jupyter-widgets/base",
            "_model_module_version": "1.2.0",
            "_model_name": "LayoutModel",
            "_view_count": null,
            "_view_module": "@jupyter-widgets/base",
            "_view_module_version": "1.2.0",
            "_view_name": "LayoutView",
            "align_content": null,
            "align_items": null,
            "align_self": null,
            "border": null,
            "bottom": null,
            "display": null,
            "flex": null,
            "flex_flow": null,
            "grid_area": null,
            "grid_auto_columns": null,
            "grid_auto_flow": null,
            "grid_auto_rows": null,
            "grid_column": null,
            "grid_gap": null,
            "grid_row": null,
            "grid_template_areas": null,
            "grid_template_columns": null,
            "grid_template_rows": null,
            "height": null,
            "justify_content": null,
            "justify_items": null,
            "left": null,
            "margin": null,
            "max_height": null,
            "max_width": null,
            "min_height": null,
            "min_width": null,
            "object_fit": null,
            "object_position": null,
            "order": null,
            "overflow": null,
            "overflow_x": null,
            "overflow_y": null,
            "padding": null,
            "right": null,
            "top": null,
            "visibility": null,
            "width": null
          }
        },
        "2e930898213e4baba2c85da3f729f172": {
          "model_module": "@jupyter-widgets/controls",
          "model_name": "DescriptionStyleModel",
          "model_module_version": "1.5.0",
          "state": {
            "_model_module": "@jupyter-widgets/controls",
            "_model_module_version": "1.5.0",
            "_model_name": "DescriptionStyleModel",
            "_view_count": null,
            "_view_module": "@jupyter-widgets/base",
            "_view_module_version": "1.2.0",
            "_view_name": "StyleView",
            "description_width": ""
          }
        },
        "594dad4fa93b470cb203f032eed89be9": {
          "model_module": "@jupyter-widgets/base",
          "model_name": "LayoutModel",
          "model_module_version": "1.2.0",
          "state": {
            "_model_module": "@jupyter-widgets/base",
            "_model_module_version": "1.2.0",
            "_model_name": "LayoutModel",
            "_view_count": null,
            "_view_module": "@jupyter-widgets/base",
            "_view_module_version": "1.2.0",
            "_view_name": "LayoutView",
            "align_content": null,
            "align_items": null,
            "align_self": null,
            "border": null,
            "bottom": null,
            "display": null,
            "flex": null,
            "flex_flow": null,
            "grid_area": null,
            "grid_auto_columns": null,
            "grid_auto_flow": null,
            "grid_auto_rows": null,
            "grid_column": null,
            "grid_gap": null,
            "grid_row": null,
            "grid_template_areas": null,
            "grid_template_columns": null,
            "grid_template_rows": null,
            "height": null,
            "justify_content": null,
            "justify_items": null,
            "left": null,
            "margin": null,
            "max_height": null,
            "max_width": null,
            "min_height": null,
            "min_width": null,
            "object_fit": null,
            "object_position": null,
            "order": null,
            "overflow": null,
            "overflow_x": null,
            "overflow_y": null,
            "padding": null,
            "right": null,
            "top": null,
            "visibility": null,
            "width": null
          }
        },
        "8c1747182972404f9dda9b98710b7626": {
          "model_module": "@jupyter-widgets/controls",
          "model_name": "ProgressStyleModel",
          "model_module_version": "1.5.0",
          "state": {
            "_model_module": "@jupyter-widgets/controls",
            "_model_module_version": "1.5.0",
            "_model_name": "ProgressStyleModel",
            "_view_count": null,
            "_view_module": "@jupyter-widgets/base",
            "_view_module_version": "1.2.0",
            "_view_name": "StyleView",
            "bar_color": null,
            "description_width": ""
          }
        },
        "9e953044306644038a7c18c59521f91a": {
          "model_module": "@jupyter-widgets/base",
          "model_name": "LayoutModel",
          "model_module_version": "1.2.0",
          "state": {
            "_model_module": "@jupyter-widgets/base",
            "_model_module_version": "1.2.0",
            "_model_name": "LayoutModel",
            "_view_count": null,
            "_view_module": "@jupyter-widgets/base",
            "_view_module_version": "1.2.0",
            "_view_name": "LayoutView",
            "align_content": null,
            "align_items": null,
            "align_self": null,
            "border": null,
            "bottom": null,
            "display": null,
            "flex": null,
            "flex_flow": null,
            "grid_area": null,
            "grid_auto_columns": null,
            "grid_auto_flow": null,
            "grid_auto_rows": null,
            "grid_column": null,
            "grid_gap": null,
            "grid_row": null,
            "grid_template_areas": null,
            "grid_template_columns": null,
            "grid_template_rows": null,
            "height": null,
            "justify_content": null,
            "justify_items": null,
            "left": null,
            "margin": null,
            "max_height": null,
            "max_width": null,
            "min_height": null,
            "min_width": null,
            "object_fit": null,
            "object_position": null,
            "order": null,
            "overflow": null,
            "overflow_x": null,
            "overflow_y": null,
            "padding": null,
            "right": null,
            "top": null,
            "visibility": null,
            "width": null
          }
        },
        "a2ad726a7c984369a2129858b3541f9e": {
          "model_module": "@jupyter-widgets/controls",
          "model_name": "DescriptionStyleModel",
          "model_module_version": "1.5.0",
          "state": {
            "_model_module": "@jupyter-widgets/controls",
            "_model_module_version": "1.5.0",
            "_model_name": "DescriptionStyleModel",
            "_view_count": null,
            "_view_module": "@jupyter-widgets/base",
            "_view_module_version": "1.2.0",
            "_view_name": "StyleView",
            "description_width": ""
          }
        }
      }
    }
  },
  "cells": [
    {
      "cell_type": "markdown",
      "metadata": {
        "id": "view-in-github",
        "colab_type": "text"
      },
      "source": [
        "<a href=\"https://colab.research.google.com/github/daothuphuong98/COVID19-NER/blob/main/PHOBERT_BASE.ipynb\" target=\"_parent\"><img src=\"https://colab.research.google.com/assets/colab-badge.svg\" alt=\"Open In Colab\"/></a>"
      ]
    },
    {
      "cell_type": "code",
      "source": [
        "from google.colab import drive\n",
        "drive.mount('/content/drive')"
      ],
      "metadata": {
        "id": "8DfXHY8xrBRI",
        "colab": {
          "base_uri": "https://localhost:8080/"
        },
        "outputId": "8ff164f5-5ebd-442e-d5fc-73ee3aad22c0"
      },
      "execution_count": null,
      "outputs": [
        {
          "output_type": "stream",
          "name": "stdout",
          "text": [
            "Mounted at /content/drive\n"
          ]
        }
      ]
    },
    {
      "cell_type": "code",
      "source": [
        "!git clone https://github.com/VinAIResearch/PhoNER_COVID19.git"
      ],
      "metadata": {
        "colab": {
          "base_uri": "https://localhost:8080/"
        },
        "id": "wq9beqYrBWSH",
        "outputId": "5128f7d1-ec30-4f1b-a8c1-4fb9cfc88b2d"
      },
      "execution_count": null,
      "outputs": [
        {
          "output_type": "stream",
          "name": "stdout",
          "text": [
            "Cloning into 'PhoNER_COVID19'...\n",
            "remote: Enumerating objects: 58, done.\u001b[K\n",
            "remote: Counting objects: 100% (58/58), done.\u001b[K\n",
            "remote: Compressing objects: 100% (38/38), done.\u001b[K\n",
            "remote: Total 58 (delta 23), reused 41 (delta 18), pack-reused 0\u001b[K\n",
            "Unpacking objects: 100% (58/58), done.\n"
          ]
        }
      ]
    },
    {
      "cell_type": "code",
      "source": [
        "!pip install datasets pytorch-crf==0.7.2 seqeval transformers tensorflow_addons git+https://www.github.com/keras-team/keras-contrib.git"
      ],
      "metadata": {
        "colab": {
          "base_uri": "https://localhost:8080/"
        },
        "id": "xX-NSlpCu6kA",
        "outputId": "18e35a40-4cb3-48cc-f7b2-171435cd3287"
      },
      "execution_count": null,
      "outputs": [
        {
          "output_type": "stream",
          "name": "stdout",
          "text": [
            "Looking in indexes: https://pypi.org/simple, https://us-python.pkg.dev/colab-wheels/public/simple/\n",
            "Collecting git+https://www.github.com/keras-team/keras-contrib.git\n",
            "  Cloning https://www.github.com/keras-team/keras-contrib.git to /tmp/pip-req-build-dklsvnei\n",
            "  Running command git clone -q https://www.github.com/keras-team/keras-contrib.git /tmp/pip-req-build-dklsvnei\n",
            "Collecting datasets\n",
            "  Downloading datasets-2.8.0-py3-none-any.whl (452 kB)\n",
            "\u001b[K     |████████████████████████████████| 452 kB 36.0 MB/s \n",
            "\u001b[?25hCollecting pytorch-crf==0.7.2\n",
            "  Downloading pytorch_crf-0.7.2-py3-none-any.whl (9.5 kB)\n",
            "Collecting seqeval\n",
            "  Downloading seqeval-1.2.2.tar.gz (43 kB)\n",
            "\u001b[K     |████████████████████████████████| 43 kB 2.5 MB/s \n",
            "\u001b[?25hCollecting transformers\n",
            "  Downloading transformers-4.25.1-py3-none-any.whl (5.8 MB)\n",
            "\u001b[K     |████████████████████████████████| 5.8 MB 44.6 MB/s \n",
            "\u001b[?25hCollecting tensorflow_addons\n",
            "  Downloading tensorflow_addons-0.19.0-cp38-cp38-manylinux_2_17_x86_64.manylinux2014_x86_64.whl (1.1 MB)\n",
            "\u001b[K     |████████████████████████████████| 1.1 MB 34.3 MB/s \n",
            "\u001b[?25hRequirement already satisfied: keras in /usr/local/lib/python3.8/dist-packages (from keras-contrib==2.0.8) (2.9.0)\n",
            "Collecting huggingface-hub<1.0.0,>=0.2.0\n",
            "  Downloading huggingface_hub-0.11.1-py3-none-any.whl (182 kB)\n",
            "\u001b[K     |████████████████████████████████| 182 kB 63.5 MB/s \n",
            "\u001b[?25hRequirement already satisfied: pandas in /usr/local/lib/python3.8/dist-packages (from datasets) (1.3.5)\n",
            "Requirement already satisfied: packaging in /usr/local/lib/python3.8/dist-packages (from datasets) (21.3)\n",
            "Requirement already satisfied: dill<0.3.7 in /usr/local/lib/python3.8/dist-packages (from datasets) (0.3.6)\n",
            "Requirement already satisfied: numpy>=1.17 in /usr/local/lib/python3.8/dist-packages (from datasets) (1.21.6)\n",
            "Requirement already satisfied: aiohttp in /usr/local/lib/python3.8/dist-packages (from datasets) (3.8.3)\n",
            "Collecting responses<0.19\n",
            "  Downloading responses-0.18.0-py3-none-any.whl (38 kB)\n",
            "Requirement already satisfied: tqdm>=4.62.1 in /usr/local/lib/python3.8/dist-packages (from datasets) (4.64.1)\n",
            "Requirement already satisfied: fsspec[http]>=2021.11.1 in /usr/local/lib/python3.8/dist-packages (from datasets) (2022.11.0)\n",
            "Requirement already satisfied: pyarrow>=6.0.0 in /usr/local/lib/python3.8/dist-packages (from datasets) (9.0.0)\n",
            "Requirement already satisfied: requests>=2.19.0 in /usr/local/lib/python3.8/dist-packages (from datasets) (2.23.0)\n",
            "Requirement already satisfied: pyyaml>=5.1 in /usr/local/lib/python3.8/dist-packages (from datasets) (6.0)\n",
            "Collecting multiprocess\n",
            "  Downloading multiprocess-0.70.14-py38-none-any.whl (132 kB)\n",
            "\u001b[K     |████████████████████████████████| 132 kB 56.0 MB/s \n",
            "\u001b[?25hCollecting xxhash\n",
            "  Downloading xxhash-3.1.0-cp38-cp38-manylinux_2_17_x86_64.manylinux2014_x86_64.whl (212 kB)\n",
            "\u001b[K     |████████████████████████████████| 212 kB 62.8 MB/s \n",
            "\u001b[?25hRequirement already satisfied: frozenlist>=1.1.1 in /usr/local/lib/python3.8/dist-packages (from aiohttp->datasets) (1.3.3)\n",
            "Requirement already satisfied: yarl<2.0,>=1.0 in /usr/local/lib/python3.8/dist-packages (from aiohttp->datasets) (1.8.2)\n",
            "Requirement already satisfied: aiosignal>=1.1.2 in /usr/local/lib/python3.8/dist-packages (from aiohttp->datasets) (1.3.1)\n",
            "Requirement already satisfied: charset-normalizer<3.0,>=2.0 in /usr/local/lib/python3.8/dist-packages (from aiohttp->datasets) (2.1.1)\n",
            "Requirement already satisfied: attrs>=17.3.0 in /usr/local/lib/python3.8/dist-packages (from aiohttp->datasets) (22.1.0)\n",
            "Requirement already satisfied: async-timeout<5.0,>=4.0.0a3 in /usr/local/lib/python3.8/dist-packages (from aiohttp->datasets) (4.0.2)\n",
            "Requirement already satisfied: multidict<7.0,>=4.5 in /usr/local/lib/python3.8/dist-packages (from aiohttp->datasets) (6.0.3)\n",
            "Requirement already satisfied: filelock in /usr/local/lib/python3.8/dist-packages (from huggingface-hub<1.0.0,>=0.2.0->datasets) (3.8.2)\n",
            "Requirement already satisfied: typing-extensions>=3.7.4.3 in /usr/local/lib/python3.8/dist-packages (from huggingface-hub<1.0.0,>=0.2.0->datasets) (4.4.0)\n",
            "Requirement already satisfied: pyparsing!=3.0.5,>=2.0.2 in /usr/local/lib/python3.8/dist-packages (from packaging->datasets) (3.0.9)\n",
            "Requirement already satisfied: idna<3,>=2.5 in /usr/local/lib/python3.8/dist-packages (from requests>=2.19.0->datasets) (2.10)\n",
            "Requirement already satisfied: certifi>=2017.4.17 in /usr/local/lib/python3.8/dist-packages (from requests>=2.19.0->datasets) (2022.12.7)\n",
            "Requirement already satisfied: chardet<4,>=3.0.2 in /usr/local/lib/python3.8/dist-packages (from requests>=2.19.0->datasets) (3.0.4)\n",
            "Requirement already satisfied: urllib3!=1.25.0,!=1.25.1,<1.26,>=1.21.1 in /usr/local/lib/python3.8/dist-packages (from requests>=2.19.0->datasets) (1.24.3)\n",
            "Collecting urllib3!=1.25.0,!=1.25.1,<1.26,>=1.21.1\n",
            "  Downloading urllib3-1.25.11-py2.py3-none-any.whl (127 kB)\n",
            "\u001b[K     |████████████████████████████████| 127 kB 69.9 MB/s \n",
            "\u001b[?25hRequirement already satisfied: scikit-learn>=0.21.3 in /usr/local/lib/python3.8/dist-packages (from seqeval) (1.0.2)\n",
            "Requirement already satisfied: threadpoolctl>=2.0.0 in /usr/local/lib/python3.8/dist-packages (from scikit-learn>=0.21.3->seqeval) (3.1.0)\n",
            "Requirement already satisfied: scipy>=1.1.0 in /usr/local/lib/python3.8/dist-packages (from scikit-learn>=0.21.3->seqeval) (1.7.3)\n",
            "Requirement already satisfied: joblib>=0.11 in /usr/local/lib/python3.8/dist-packages (from scikit-learn>=0.21.3->seqeval) (1.2.0)\n",
            "Requirement already satisfied: regex!=2019.12.17 in /usr/local/lib/python3.8/dist-packages (from transformers) (2022.6.2)\n",
            "Collecting tokenizers!=0.11.3,<0.14,>=0.11.1\n",
            "  Downloading tokenizers-0.13.2-cp38-cp38-manylinux_2_17_x86_64.manylinux2014_x86_64.whl (7.6 MB)\n",
            "\u001b[K     |████████████████████████████████| 7.6 MB 66.5 MB/s \n",
            "\u001b[?25hRequirement already satisfied: typeguard>=2.7 in /usr/local/lib/python3.8/dist-packages (from tensorflow_addons) (2.7.1)\n",
            "Requirement already satisfied: python-dateutil>=2.7.3 in /usr/local/lib/python3.8/dist-packages (from pandas->datasets) (2.8.2)\n",
            "Requirement already satisfied: pytz>=2017.3 in /usr/local/lib/python3.8/dist-packages (from pandas->datasets) (2022.6)\n",
            "Requirement already satisfied: six>=1.5 in /usr/local/lib/python3.8/dist-packages (from python-dateutil>=2.7.3->pandas->datasets) (1.15.0)\n",
            "Building wheels for collected packages: keras-contrib, seqeval\n",
            "  Building wheel for keras-contrib (setup.py) ... \u001b[?25l\u001b[?25hdone\n",
            "  Created wheel for keras-contrib: filename=keras_contrib-2.0.8-py3-none-any.whl size=101076 sha256=01bfddf7ebfc3b305b69b058e3d2c65d3200fe009a388dbb69884ccd027d2f7d\n",
            "  Stored in directory: /tmp/pip-ephem-wheel-cache-d50qauai/wheels/67/d2/f4/96ae3c3c62d1e05abfc8860ad0c1207794726d44ebbbb547f3\n",
            "  Building wheel for seqeval (setup.py) ... \u001b[?25l\u001b[?25hdone\n",
            "  Created wheel for seqeval: filename=seqeval-1.2.2-py3-none-any.whl size=16179 sha256=bd920a8d7a50a7125841df1f57c3fe44f3187e8efa07435772ac2352bccf515e\n",
            "  Stored in directory: /root/.cache/pip/wheels/ad/5c/ba/05fa33fa5855777b7d686e843ec07452f22a66a138e290e732\n",
            "Successfully built keras-contrib seqeval\n",
            "Installing collected packages: urllib3, xxhash, tokenizers, responses, multiprocess, huggingface-hub, transformers, tensorflow-addons, seqeval, pytorch-crf, keras-contrib, datasets\n",
            "  Attempting uninstall: urllib3\n",
            "    Found existing installation: urllib3 1.24.3\n",
            "    Uninstalling urllib3-1.24.3:\n",
            "      Successfully uninstalled urllib3-1.24.3\n",
            "Successfully installed datasets-2.8.0 huggingface-hub-0.11.1 keras-contrib-2.0.8 multiprocess-0.70.14 pytorch-crf-0.7.2 responses-0.18.0 seqeval-1.2.2 tensorflow-addons-0.19.0 tokenizers-0.13.2 transformers-4.25.1 urllib3-1.25.11 xxhash-3.1.0\n"
          ]
        }
      ]
    },
    {
      "cell_type": "code",
      "source": [
        "import pandas as pd\n",
        "import numpy as np\n",
        "import re\n",
        "import torch\n",
        "import tensorflow as tf\n",
        "import torch.nn as nn\n",
        "from torchcrf import CRF\n",
        "from tensorflow.keras.preprocessing.sequence import pad_sequences\n",
        "from transformers import BertForTokenClassification, AdamW, XLMRobertaTokenizer, XLMRobertaConfig, XLMRobertaModel, TrainingArguments, AutoTokenizer, AutoConfig, Trainer, AutoModel, DataCollatorForTokenClassification\n",
        "from tqdm import tqdm, trange, tqdm_notebook\n",
        "from transformers.modeling_outputs import TokenClassifierOutput\n",
        "from transformers.models.roberta.modeling_roberta import RobertaModel\n",
        "from transformers.models.roberta.modeling_roberta import RobertaPreTrainedModel\n",
        "from seqeval.metrics import f1_score, classification_report\n",
        "from datasets import ClassLabel, Dataset, DatasetDict\n",
        "# from transformers import get_linear_schedule_with_warmup, get_constant_schedule_with_warmup, get_cosine_with_hard_restarts_schedule_with_warmup\n",
        "pd.set_option('display.max_colwidth', -1)"
      ],
      "metadata": {
        "id": "CLNMGG8lvEze",
        "colab": {
          "base_uri": "https://localhost:8080/"
        },
        "outputId": "0a5d80a9-5c5d-4e34-e636-ed3415eb03b4"
      },
      "execution_count": null,
      "outputs": [
        {
          "output_type": "stream",
          "name": "stderr",
          "text": [
            "<ipython-input-4-f82015fadac9>:17: FutureWarning: Passing a negative integer is deprecated in version 1.0 and will not be supported in future version. Instead, use None to not limit the column width.\n",
            "  pd.set_option('display.max_colwidth', -1)\n"
          ]
        }
      ]
    },
    {
      "cell_type": "code",
      "source": [
        "device = torch.device(\"cuda\" if torch.cuda.is_available() else \"cpu\")\n",
        "n_gpu = torch.cuda.device_count()\n",
        "print(device)\n",
        "\n",
        "MAX_LEN = 256\n",
        "BS = 32\n",
        "\n",
        "linear_dropout = 0.3\n",
        "bert_att_dropout = 0.15\n",
        "bert_hidd_dropout = 0.2\n",
        "\n",
        "bert_lr = 1e-5\n",
        "bert_weight_decay = 1e-5\n",
        "softmax_lr = 1e-3\n",
        "softmax_weight_decay = 1e-3"
      ],
      "metadata": {
        "colab": {
          "base_uri": "https://localhost:8080/"
        },
        "id": "fGFNpbxexjoz",
        "outputId": "aaa6bfeb-9026-4cf8-c5e4-7d49f307514c"
      },
      "execution_count": null,
      "outputs": [
        {
          "output_type": "stream",
          "name": "stdout",
          "text": [
            "cuda\n"
          ]
        }
      ]
    },
    {
      "cell_type": "code",
      "source": [
        "!nvidia-smi"
      ],
      "metadata": {
        "colab": {
          "base_uri": "https://localhost:8080/"
        },
        "id": "SDIqpTg7-6pb",
        "outputId": "3c403cfe-1997-4884-a68b-98a3e3ce12d0"
      },
      "execution_count": null,
      "outputs": [
        {
          "output_type": "stream",
          "name": "stdout",
          "text": [
            "Sat Dec 24 08:41:50 2022       \n",
            "+-----------------------------------------------------------------------------+\n",
            "| NVIDIA-SMI 460.32.03    Driver Version: 460.32.03    CUDA Version: 11.2     |\n",
            "|-------------------------------+----------------------+----------------------+\n",
            "| GPU  Name        Persistence-M| Bus-Id        Disp.A | Volatile Uncorr. ECC |\n",
            "| Fan  Temp  Perf  Pwr:Usage/Cap|         Memory-Usage | GPU-Util  Compute M. |\n",
            "|                               |                      |               MIG M. |\n",
            "|===============================+======================+======================|\n",
            "|   0  Tesla T4            Off  | 00000000:00:04.0 Off |                    0 |\n",
            "| N/A   46C    P0    28W /  70W |      3MiB / 15109MiB |      0%      Default |\n",
            "|                               |                      |                  N/A |\n",
            "+-------------------------------+----------------------+----------------------+\n",
            "                                                                               \n",
            "+-----------------------------------------------------------------------------+\n",
            "| Processes:                                                                  |\n",
            "|  GPU   GI   CI        PID   Type   Process name                  GPU Memory |\n",
            "|        ID   ID                                                   Usage      |\n",
            "|=============================================================================|\n",
            "|  No running processes found                                                 |\n",
            "+-----------------------------------------------------------------------------+\n"
          ]
        }
      ]
    },
    {
      "cell_type": "markdown",
      "source": [
        "#Data"
      ],
      "metadata": {
        "id": "QaW8nEUyQitV"
      }
    },
    {
      "cell_type": "markdown",
      "source": [
        "## Words"
      ],
      "metadata": {
        "id": "Bgy1-JIhbyS2"
      }
    },
    {
      "cell_type": "code",
      "source": [
        "import pandas as pd\n",
        "import re\n",
        "import plotly.express as px"
      ],
      "metadata": {
        "id": "0Y4DFhsFpX9u"
      },
      "execution_count": null,
      "outputs": []
    },
    {
      "cell_type": "code",
      "source": [
        "def handle_file(link):\n",
        "    with open(link) as f:\n",
        "        contents = f.readlines()\n",
        "    idx_sentence, idx_arr, word, tag = 0, [], [], []\n",
        "    for line in contents:\n",
        "        arr_info = line.split(' ')\n",
        "        # print(arr_info)\n",
        "        if len(arr_info) == 1:\n",
        "            idx_sentence += 1\n",
        "            continue\n",
        "        word.append(arr_info[0])\n",
        "        tag.append(arr_info[1].replace('\\n', ''))\n",
        "        idx_arr.append(idx_sentence)\n",
        "    return pd.DataFrame(\n",
        "        data = {\n",
        "            'idx': idx_arr,\n",
        "            'word': word,\n",
        "            'tag': tag\n",
        "        }\n",
        "    )"
      ],
      "metadata": {
        "id": "LO5gHyUfQhyZ"
      },
      "execution_count": null,
      "outputs": []
    },
    {
      "cell_type": "code",
      "source": [
        "word_train_data = handle_file('/content/PhoNER_COVID19/data/word/train_word.conll')\n",
        "word_test_data = handle_file('/content/PhoNER_COVID19/data/word/test_word.conll')\n",
        "word_val_data = handle_file('/content/PhoNER_COVID19/data/word/dev_word.conll')\n",
        "\n",
        "word_train_data['word_process'] = word_train_data['word'].apply(lambda x: re.sub('[0-9]+', \"<NUM>\", x).lower())\n",
        "word_test_data['word_process'] = word_test_data['word'].apply(lambda x: re.sub('[0-9]+', \"<NUM>\", x).lower())\n",
        "word_val_data['word_process'] = word_val_data['word'].apply(lambda x: re.sub('[0-9]+', \"<NUM>\", x).lower())\n",
        "\n",
        "filter_string = '?!\"/\\{}().,'\n",
        "word_train_data = word_train_data[word_train_data['word_process'].apply(lambda x: x not in filter_string)]\n",
        "word_test_data = word_test_data[word_test_data['word_process'].apply(lambda x: x not in filter_string)]\n",
        "word_val_data = word_val_data[word_val_data['word_process'].apply(lambda x: x not in filter_string)]\n",
        "\n",
        "word_train_data_group = word_train_data.groupby('idx').agg({'word_process': ' '.join, 'word': ' '.join, 'tag': list}) \n",
        "word_test_data_group = word_test_data.groupby('idx').agg({'word_process': ' '.join, 'word': ' '.join, 'tag': list}) \n",
        "word_val_data_group = word_val_data.groupby('idx').agg({'word_process': ' '.join, 'word': ' '.join, 'tag': list}) \n",
        "\n",
        "word_train_data_group['len_tag'] = word_train_data_group['tag'].apply(lambda x: len(x))\n",
        "word_val_data_group['len_tag'] = word_val_data_group['tag'].apply(lambda x: len(x))\n",
        "word_test_data_group['len_tag'] = word_test_data_group['tag'].apply(lambda x: len(x))\n",
        "\n",
        "word_train_data_group['tag_string'] = word_train_data_group['tag'].apply(lambda x: ' '.join(x))\n",
        "word_val_data_group['tag_string'] = word_val_data_group['tag'].apply(lambda x: ' '.join(x))\n",
        "word_test_data_group['tag_string'] = word_test_data_group['tag'].apply(lambda x: ' '.join(x))\n",
        "\n",
        "# train_data_group = train_data_group[train_data_group['len_tag'] <= 55].reset_index()\n",
        "# val_data_group = val_data_group[val_data_group['len_tag'] <= 55].reset_index()\n",
        "# test_data_group = test_data_group[test_data_group['len_tag'] <= 55].reset_index()"
      ],
      "metadata": {
        "id": "zrybe1LBSyxL"
      },
      "execution_count": null,
      "outputs": []
    },
    {
      "cell_type": "code",
      "source": [
        "word_train_data_group[word_train_data_group['len_tag'] < 15].sample(20)"
      ],
      "metadata": {
        "colab": {
          "base_uri": "https://localhost:8080/",
          "height": 1000
        },
        "id": "4jG2m7Y4MAKN",
        "outputId": "472bf43c-7c36-4e9a-c873-6e70a05dd091"
      },
      "execution_count": null,
      "outputs": [
        {
          "output_type": "execute_result",
          "data": {
            "text/plain": [
              "                                                                                                           word_process  \\\n",
              "idx                                                                                                                       \n",
              "4901  ngày <num>/<num> bệnh_nhân đến bệnh_viện đa_khoa tỉnh ninh_thuận khám và điều_trị                                   \n",
              "4295  những bệnh_nhân suy thận như oanh không không_thể rời xa bệnh_viện quá hai ngày                                     \n",
              "511   ngày <num>/<num> bệnh_nhân sốt cao không hạ                                                                         \n",
              "1237  kết_quả xét_nghiệm sàng_lọc của trung_tâm kiểm_soát bệnh_tật hà_nội âm_tính cách_ly tập_trung ở tỉnh bắc_giang      \n",
              "2859  hiện_tình_trạng bệnh_nhân khá nặng mệt nhiều khó thở đau ngực                                                       \n",
              "1923  ngày <num>/<num> ông biểu_hiện sốt nhẹ nhập_viện tại bệnh_viện đa_khoa tỉnh vĩnh_phúc                               \n",
              "1333  bác_sĩ huỳnh_thái_tiễn thăm_khám cho bệnh_nhân tại bệnh_viện điều_trị covid - <num> ở cần_giờ                       \n",
              "845   cô từ mỹ_về quá_cảnh ở philippines nhập_cảnh việt_nam ngày <num> - <num>                                            \n",
              "4530  trong thời_gian ông chuyển sang điều_trị tại khoa a<num> người thân_quen liên_tục đến thăm                          \n",
              "1926  ngày <num>/<num> chị có kết_quả xét_nghiệm dương_tính với ncov                                                      \n",
              "847   siêu_thị này nằm cạnh khách_sạn vanda nơi hai du_khách từng lưu_trú                                                 \n",
              "1510  cô nhập_cảnh tân_sơn_nhất tối <num>/<num> cách_ly tập_trung tại ký_túc_xá đại_học quốc_gia tp hcm                   \n",
              "2688  bệnh_nhân <num> phi_công anh <num> tuổi không sốt thở máy theo_dõi rối_loạn đông máu                                \n",
              "3668  ông thắng cho biết có triệu_chứng bệnh từ đầu tháng <num>                                                           \n",
              "1470  ngày <num> - <num>/<num> bệnh_nhân chuyển điều_trị tại bệnh_viện đà_nẵng                                            \n",
              "3710  chiều <num>/<num> kết_quả xét_nghiệm của viện vệ_sinh dịch_tễ trung_ương khẳng_định bệnh_nhân dương_tính với ncov   \n",
              "1131  hai bệnh_nhân <num> và <num> nhận giấy ra viện trưa <num>/<num>                                                     \n",
              "3531  ngày <num> - <num> t. bắt_đầu có ho không sốt                                                                       \n",
              "4396  bệnh_nhân <num> <num> tuổi ở xã tân_hồng huyện bình_giang tỉnh hải_dương                                            \n",
              "3827  bệnh_nhân <num> nữ <num> tuổi cháu nội của bệnh_nhân <num>                                                          \n",
              "\n",
              "                                                                                                                word  \\\n",
              "idx                                                                                                                    \n",
              "4901  Ngày 15/3 bệnh_nhân đến Bệnh_viện đa_khoa tỉnh Ninh_Thuận khám và điều_trị                                       \n",
              "4295  Những bệnh_nhân suy thận như Oanh không không_thể rời xa bệnh_viện quá hai ngày                                  \n",
              "511   Ngày 16/8 bệnh_nhân sốt cao không hạ                                                                             \n",
              "1237  Kết_quả xét_nghiệm sàng_lọc của Trung_tâm Kiểm_soát Bệnh_tật Hà_Nội âm_tính cách_ly tập_trung ở tỉnh Bắc_Giang   \n",
              "2859  Hiện_tình_trạng bệnh_nhân khá nặng mệt nhiều khó thở đau ngực                                                    \n",
              "1923  Ngày 28/3 ông biểu_hiện sốt nhẹ nhập_viện tại Bệnh_viện Đa_khoa tỉnh Vĩnh_Phúc                                   \n",
              "1333  Bác_sĩ Huỳnh_Thái_Tiễn thăm_khám cho bệnh_nhân tại bệnh_viện điều_trị COVID - 19 ở Cần_Giờ                       \n",
              "845   Cô từ Mỹ_về quá_cảnh ở Philippines nhập_cảnh Việt_Nam ngày 13 - 3                                                \n",
              "4530  Trong thời_gian ông chuyển sang điều_trị tại khoa A2 người thân_quen liên_tục đến thăm                           \n",
              "1926  Ngày 14/8 chị có kết_quả xét_nghiệm dương_tính với nCoV                                                          \n",
              "847   Siêu_thị này nằm cạnh khách_sạn Vanda nơi hai du_khách từng lưu_trú                                              \n",
              "1510  Cô nhập_cảnh Tân_Sơn_Nhất tối 19/3 cách_ly tập_trung tại ký_túc_xá Đại_học Quốc_gia TP HCM                       \n",
              "2688  Bệnh_nhân 91 phi_công Anh 43 tuổi không sốt thở máy theo_dõi rối_loạn đông máu                                   \n",
              "3668  Ông Thắng cho biết có triệu_chứng bệnh từ đầu tháng 8                                                            \n",
              "1470  Ngày 6 - 20/7 bệnh_nhân chuyển điều_trị tại Bệnh_viện Đà_Nẵng                                                    \n",
              "3710  Chiều 20/3 kết_quả xét_nghiệm của Viện Vệ_sinh Dịch_tễ Trung_ương khẳng_định bệnh_nhân dương_tính với nCoV       \n",
              "1131  Hai bệnh_nhân 517 và 589 nhận giấy ra viện trưa 25/8                                                             \n",
              "3531  Ngày 2 - 3 T. bắt_đầu có ho không sốt                                                                            \n",
              "4396  Bệnh_nhân 867 63 tuổi ở xã Tân_Hồng huyện Bình_Giang tỉnh Hải_Dương                                              \n",
              "3827  Bệnh_nhân 1026 nữ 21 tuổi cháu nội của bệnh_nhân 1017                                                            \n",
              "\n",
              "                                                                                                                                                         tag  \\\n",
              "idx                                                                                                                                                            \n",
              "4901  [O, B-DATE, O, O, B-LOCATION, I-LOCATION, I-LOCATION, I-LOCATION, O, O, O]                                                                               \n",
              "4295  [O, O, B-SYMPTOM_AND_DISEASE, I-SYMPTOM_AND_DISEASE, O, B-NAME, O, O, O, O, O, O, O, O]                                                                  \n",
              "511   [O, B-DATE, O, B-SYMPTOM_AND_DISEASE, I-SYMPTOM_AND_DISEASE, O, O]                                                                                       \n",
              "1237  [O, O, O, O, B-ORGANIZATION, I-ORGANIZATION, I-ORGANIZATION, I-ORGANIZATION, O, O, O, O, B-LOCATION, I-LOCATION]                                         \n",
              "2859  [O, O, O, O, B-SYMPTOM_AND_DISEASE, I-SYMPTOM_AND_DISEASE, B-SYMPTOM_AND_DISEASE, I-SYMPTOM_AND_DISEASE, B-SYMPTOM_AND_DISEASE, I-SYMPTOM_AND_DISEASE]   \n",
              "1923  [O, B-DATE, O, O, B-SYMPTOM_AND_DISEASE, I-SYMPTOM_AND_DISEASE, O, O, B-LOCATION, I-LOCATION, I-LOCATION, I-LOCATION]                                    \n",
              "1333  [O, O, O, O, O, O, B-LOCATION, I-LOCATION, I-LOCATION, I-LOCATION, I-LOCATION, I-LOCATION, I-LOCATION]                                                   \n",
              "845   [O, O, B-LOCATION, O, O, B-LOCATION, O, B-LOCATION, O, B-DATE, I-DATE, I-DATE]                                                                           \n",
              "4530  [O, O, O, O, O, O, O, O, O, O, O, O, O, O]                                                                                                               \n",
              "1926  [O, B-DATE, O, O, O, O, O, O, O]                                                                                                                         \n",
              "847   [O, O, O, O, B-LOCATION, I-LOCATION, O, O, O, O, O]                                                                                                      \n",
              "1510  [O, O, B-LOCATION, O, B-DATE, O, O, O, B-LOCATION, I-LOCATION, I-LOCATION, I-LOCATION, I-LOCATION]                                                       \n",
              "2688  [O, B-DATE, B-JOB, O, B-AGE, O, O, O, O, O, O, B-SYMPTOM_AND_DISEASE, I-SYMPTOM_AND_DISEASE, I-SYMPTOM_AND_DISEASE]                                      \n",
              "3668  [O, B-NAME, O, O, O, O, O, O, O, O, O]                                                                                                                   \n",
              "1470  [O, B-DATE, O, B-DATE, O, O, O, O, B-LOCATION, I-LOCATION]                                                                                               \n",
              "3710  [O, B-DATE, O, O, O, B-ORGANIZATION, I-ORGANIZATION, I-ORGANIZATION, I-ORGANIZATION, O, O, O, O, O]                                                      \n",
              "1131  [O, O, B-PATIENT_ID, O, B-PATIENT_ID, O, O, O, O, O, B-DATE]                                                                                             \n",
              "3531  [O, B-DATE, I-DATE, I-DATE, B-NAME, O, O, B-SYMPTOM_AND_DISEASE, O, O]                                                                                   \n",
              "4396  [O, B-PATIENT_ID, B-AGE, O, O, B-LOCATION, I-LOCATION, B-LOCATION, I-LOCATION, B-LOCATION, I-LOCATION]                                                   \n",
              "3827  [O, B-PATIENT_ID, B-GENDER, B-AGE, O, O, O, O, O, B-PATIENT_ID]                                                                                          \n",
              "\n",
              "      len_tag  \\\n",
              "idx             \n",
              "4901  11        \n",
              "4295  14        \n",
              "511   7         \n",
              "1237  14        \n",
              "2859  10        \n",
              "1923  12        \n",
              "1333  13        \n",
              "845   12        \n",
              "4530  14        \n",
              "1926  9         \n",
              "847   11        \n",
              "1510  13        \n",
              "2688  14        \n",
              "3668  11        \n",
              "1470  10        \n",
              "3710  14        \n",
              "1131  11        \n",
              "3531  10        \n",
              "4396  11        \n",
              "3827  10        \n",
              "\n",
              "                                                                                                                                       tag_string  \n",
              "idx                                                                                                                                                \n",
              "4901  O B-DATE O O B-LOCATION I-LOCATION I-LOCATION I-LOCATION O O O                                                                               \n",
              "4295  O O B-SYMPTOM_AND_DISEASE I-SYMPTOM_AND_DISEASE O B-NAME O O O O O O O O                                                                     \n",
              "511   O B-DATE O B-SYMPTOM_AND_DISEASE I-SYMPTOM_AND_DISEASE O O                                                                                   \n",
              "1237  O O O O B-ORGANIZATION I-ORGANIZATION I-ORGANIZATION I-ORGANIZATION O O O O B-LOCATION I-LOCATION                                            \n",
              "2859  O O O O B-SYMPTOM_AND_DISEASE I-SYMPTOM_AND_DISEASE B-SYMPTOM_AND_DISEASE I-SYMPTOM_AND_DISEASE B-SYMPTOM_AND_DISEASE I-SYMPTOM_AND_DISEASE  \n",
              "1923  O B-DATE O O B-SYMPTOM_AND_DISEASE I-SYMPTOM_AND_DISEASE O O B-LOCATION I-LOCATION I-LOCATION I-LOCATION                                     \n",
              "1333  O O O O O O B-LOCATION I-LOCATION I-LOCATION I-LOCATION I-LOCATION I-LOCATION I-LOCATION                                                     \n",
              "845   O O B-LOCATION O O B-LOCATION O B-LOCATION O B-DATE I-DATE I-DATE                                                                            \n",
              "4530  O O O O O O O O O O O O O O                                                                                                                  \n",
              "1926  O B-DATE O O O O O O O                                                                                                                       \n",
              "847   O O O O B-LOCATION I-LOCATION O O O O O                                                                                                      \n",
              "1510  O O B-LOCATION O B-DATE O O O B-LOCATION I-LOCATION I-LOCATION I-LOCATION I-LOCATION                                                         \n",
              "2688  O B-DATE B-JOB O B-AGE O O O O O O B-SYMPTOM_AND_DISEASE I-SYMPTOM_AND_DISEASE I-SYMPTOM_AND_DISEASE                                         \n",
              "3668  O B-NAME O O O O O O O O O                                                                                                                   \n",
              "1470  O B-DATE O B-DATE O O O O B-LOCATION I-LOCATION                                                                                              \n",
              "3710  O B-DATE O O O B-ORGANIZATION I-ORGANIZATION I-ORGANIZATION I-ORGANIZATION O O O O O                                                         \n",
              "1131  O O B-PATIENT_ID O B-PATIENT_ID O O O O O B-DATE                                                                                             \n",
              "3531  O B-DATE I-DATE I-DATE B-NAME O O B-SYMPTOM_AND_DISEASE O O                                                                                  \n",
              "4396  O B-PATIENT_ID B-AGE O O B-LOCATION I-LOCATION B-LOCATION I-LOCATION B-LOCATION I-LOCATION                                                   \n",
              "3827  O B-PATIENT_ID B-GENDER B-AGE O O O O O B-PATIENT_ID                                                                                         "
            ],
            "text/html": [
              "\n",
              "  <div id=\"df-1b92bed0-5717-4de7-8e8e-e9e288dfc753\">\n",
              "    <div class=\"colab-df-container\">\n",
              "      <div>\n",
              "<style scoped>\n",
              "    .dataframe tbody tr th:only-of-type {\n",
              "        vertical-align: middle;\n",
              "    }\n",
              "\n",
              "    .dataframe tbody tr th {\n",
              "        vertical-align: top;\n",
              "    }\n",
              "\n",
              "    .dataframe thead th {\n",
              "        text-align: right;\n",
              "    }\n",
              "</style>\n",
              "<table border=\"1\" class=\"dataframe\">\n",
              "  <thead>\n",
              "    <tr style=\"text-align: right;\">\n",
              "      <th></th>\n",
              "      <th>word_process</th>\n",
              "      <th>word</th>\n",
              "      <th>tag</th>\n",
              "      <th>len_tag</th>\n",
              "      <th>tag_string</th>\n",
              "    </tr>\n",
              "    <tr>\n",
              "      <th>idx</th>\n",
              "      <th></th>\n",
              "      <th></th>\n",
              "      <th></th>\n",
              "      <th></th>\n",
              "      <th></th>\n",
              "    </tr>\n",
              "  </thead>\n",
              "  <tbody>\n",
              "    <tr>\n",
              "      <th>4901</th>\n",
              "      <td>ngày &lt;num&gt;/&lt;num&gt; bệnh_nhân đến bệnh_viện đa_khoa tỉnh ninh_thuận khám và điều_trị</td>\n",
              "      <td>Ngày 15/3 bệnh_nhân đến Bệnh_viện đa_khoa tỉnh Ninh_Thuận khám và điều_trị</td>\n",
              "      <td>[O, B-DATE, O, O, B-LOCATION, I-LOCATION, I-LOCATION, I-LOCATION, O, O, O]</td>\n",
              "      <td>11</td>\n",
              "      <td>O B-DATE O O B-LOCATION I-LOCATION I-LOCATION I-LOCATION O O O</td>\n",
              "    </tr>\n",
              "    <tr>\n",
              "      <th>4295</th>\n",
              "      <td>những bệnh_nhân suy thận như oanh không không_thể rời xa bệnh_viện quá hai ngày</td>\n",
              "      <td>Những bệnh_nhân suy thận như Oanh không không_thể rời xa bệnh_viện quá hai ngày</td>\n",
              "      <td>[O, O, B-SYMPTOM_AND_DISEASE, I-SYMPTOM_AND_DISEASE, O, B-NAME, O, O, O, O, O, O, O, O]</td>\n",
              "      <td>14</td>\n",
              "      <td>O O B-SYMPTOM_AND_DISEASE I-SYMPTOM_AND_DISEASE O B-NAME O O O O O O O O</td>\n",
              "    </tr>\n",
              "    <tr>\n",
              "      <th>511</th>\n",
              "      <td>ngày &lt;num&gt;/&lt;num&gt; bệnh_nhân sốt cao không hạ</td>\n",
              "      <td>Ngày 16/8 bệnh_nhân sốt cao không hạ</td>\n",
              "      <td>[O, B-DATE, O, B-SYMPTOM_AND_DISEASE, I-SYMPTOM_AND_DISEASE, O, O]</td>\n",
              "      <td>7</td>\n",
              "      <td>O B-DATE O B-SYMPTOM_AND_DISEASE I-SYMPTOM_AND_DISEASE O O</td>\n",
              "    </tr>\n",
              "    <tr>\n",
              "      <th>1237</th>\n",
              "      <td>kết_quả xét_nghiệm sàng_lọc của trung_tâm kiểm_soát bệnh_tật hà_nội âm_tính cách_ly tập_trung ở tỉnh bắc_giang</td>\n",
              "      <td>Kết_quả xét_nghiệm sàng_lọc của Trung_tâm Kiểm_soát Bệnh_tật Hà_Nội âm_tính cách_ly tập_trung ở tỉnh Bắc_Giang</td>\n",
              "      <td>[O, O, O, O, B-ORGANIZATION, I-ORGANIZATION, I-ORGANIZATION, I-ORGANIZATION, O, O, O, O, B-LOCATION, I-LOCATION]</td>\n",
              "      <td>14</td>\n",
              "      <td>O O O O B-ORGANIZATION I-ORGANIZATION I-ORGANIZATION I-ORGANIZATION O O O O B-LOCATION I-LOCATION</td>\n",
              "    </tr>\n",
              "    <tr>\n",
              "      <th>2859</th>\n",
              "      <td>hiện_tình_trạng bệnh_nhân khá nặng mệt nhiều khó thở đau ngực</td>\n",
              "      <td>Hiện_tình_trạng bệnh_nhân khá nặng mệt nhiều khó thở đau ngực</td>\n",
              "      <td>[O, O, O, O, B-SYMPTOM_AND_DISEASE, I-SYMPTOM_AND_DISEASE, B-SYMPTOM_AND_DISEASE, I-SYMPTOM_AND_DISEASE, B-SYMPTOM_AND_DISEASE, I-SYMPTOM_AND_DISEASE]</td>\n",
              "      <td>10</td>\n",
              "      <td>O O O O B-SYMPTOM_AND_DISEASE I-SYMPTOM_AND_DISEASE B-SYMPTOM_AND_DISEASE I-SYMPTOM_AND_DISEASE B-SYMPTOM_AND_DISEASE I-SYMPTOM_AND_DISEASE</td>\n",
              "    </tr>\n",
              "    <tr>\n",
              "      <th>1923</th>\n",
              "      <td>ngày &lt;num&gt;/&lt;num&gt; ông biểu_hiện sốt nhẹ nhập_viện tại bệnh_viện đa_khoa tỉnh vĩnh_phúc</td>\n",
              "      <td>Ngày 28/3 ông biểu_hiện sốt nhẹ nhập_viện tại Bệnh_viện Đa_khoa tỉnh Vĩnh_Phúc</td>\n",
              "      <td>[O, B-DATE, O, O, B-SYMPTOM_AND_DISEASE, I-SYMPTOM_AND_DISEASE, O, O, B-LOCATION, I-LOCATION, I-LOCATION, I-LOCATION]</td>\n",
              "      <td>12</td>\n",
              "      <td>O B-DATE O O B-SYMPTOM_AND_DISEASE I-SYMPTOM_AND_DISEASE O O B-LOCATION I-LOCATION I-LOCATION I-LOCATION</td>\n",
              "    </tr>\n",
              "    <tr>\n",
              "      <th>1333</th>\n",
              "      <td>bác_sĩ huỳnh_thái_tiễn thăm_khám cho bệnh_nhân tại bệnh_viện điều_trị covid - &lt;num&gt; ở cần_giờ</td>\n",
              "      <td>Bác_sĩ Huỳnh_Thái_Tiễn thăm_khám cho bệnh_nhân tại bệnh_viện điều_trị COVID - 19 ở Cần_Giờ</td>\n",
              "      <td>[O, O, O, O, O, O, B-LOCATION, I-LOCATION, I-LOCATION, I-LOCATION, I-LOCATION, I-LOCATION, I-LOCATION]</td>\n",
              "      <td>13</td>\n",
              "      <td>O O O O O O B-LOCATION I-LOCATION I-LOCATION I-LOCATION I-LOCATION I-LOCATION I-LOCATION</td>\n",
              "    </tr>\n",
              "    <tr>\n",
              "      <th>845</th>\n",
              "      <td>cô từ mỹ_về quá_cảnh ở philippines nhập_cảnh việt_nam ngày &lt;num&gt; - &lt;num&gt;</td>\n",
              "      <td>Cô từ Mỹ_về quá_cảnh ở Philippines nhập_cảnh Việt_Nam ngày 13 - 3</td>\n",
              "      <td>[O, O, B-LOCATION, O, O, B-LOCATION, O, B-LOCATION, O, B-DATE, I-DATE, I-DATE]</td>\n",
              "      <td>12</td>\n",
              "      <td>O O B-LOCATION O O B-LOCATION O B-LOCATION O B-DATE I-DATE I-DATE</td>\n",
              "    </tr>\n",
              "    <tr>\n",
              "      <th>4530</th>\n",
              "      <td>trong thời_gian ông chuyển sang điều_trị tại khoa a&lt;num&gt; người thân_quen liên_tục đến thăm</td>\n",
              "      <td>Trong thời_gian ông chuyển sang điều_trị tại khoa A2 người thân_quen liên_tục đến thăm</td>\n",
              "      <td>[O, O, O, O, O, O, O, O, O, O, O, O, O, O]</td>\n",
              "      <td>14</td>\n",
              "      <td>O O O O O O O O O O O O O O</td>\n",
              "    </tr>\n",
              "    <tr>\n",
              "      <th>1926</th>\n",
              "      <td>ngày &lt;num&gt;/&lt;num&gt; chị có kết_quả xét_nghiệm dương_tính với ncov</td>\n",
              "      <td>Ngày 14/8 chị có kết_quả xét_nghiệm dương_tính với nCoV</td>\n",
              "      <td>[O, B-DATE, O, O, O, O, O, O, O]</td>\n",
              "      <td>9</td>\n",
              "      <td>O B-DATE O O O O O O O</td>\n",
              "    </tr>\n",
              "    <tr>\n",
              "      <th>847</th>\n",
              "      <td>siêu_thị này nằm cạnh khách_sạn vanda nơi hai du_khách từng lưu_trú</td>\n",
              "      <td>Siêu_thị này nằm cạnh khách_sạn Vanda nơi hai du_khách từng lưu_trú</td>\n",
              "      <td>[O, O, O, O, B-LOCATION, I-LOCATION, O, O, O, O, O]</td>\n",
              "      <td>11</td>\n",
              "      <td>O O O O B-LOCATION I-LOCATION O O O O O</td>\n",
              "    </tr>\n",
              "    <tr>\n",
              "      <th>1510</th>\n",
              "      <td>cô nhập_cảnh tân_sơn_nhất tối &lt;num&gt;/&lt;num&gt; cách_ly tập_trung tại ký_túc_xá đại_học quốc_gia tp hcm</td>\n",
              "      <td>Cô nhập_cảnh Tân_Sơn_Nhất tối 19/3 cách_ly tập_trung tại ký_túc_xá Đại_học Quốc_gia TP HCM</td>\n",
              "      <td>[O, O, B-LOCATION, O, B-DATE, O, O, O, B-LOCATION, I-LOCATION, I-LOCATION, I-LOCATION, I-LOCATION]</td>\n",
              "      <td>13</td>\n",
              "      <td>O O B-LOCATION O B-DATE O O O B-LOCATION I-LOCATION I-LOCATION I-LOCATION I-LOCATION</td>\n",
              "    </tr>\n",
              "    <tr>\n",
              "      <th>2688</th>\n",
              "      <td>bệnh_nhân &lt;num&gt; phi_công anh &lt;num&gt; tuổi không sốt thở máy theo_dõi rối_loạn đông máu</td>\n",
              "      <td>Bệnh_nhân 91 phi_công Anh 43 tuổi không sốt thở máy theo_dõi rối_loạn đông máu</td>\n",
              "      <td>[O, B-DATE, B-JOB, O, B-AGE, O, O, O, O, O, O, B-SYMPTOM_AND_DISEASE, I-SYMPTOM_AND_DISEASE, I-SYMPTOM_AND_DISEASE]</td>\n",
              "      <td>14</td>\n",
              "      <td>O B-DATE B-JOB O B-AGE O O O O O O B-SYMPTOM_AND_DISEASE I-SYMPTOM_AND_DISEASE I-SYMPTOM_AND_DISEASE</td>\n",
              "    </tr>\n",
              "    <tr>\n",
              "      <th>3668</th>\n",
              "      <td>ông thắng cho biết có triệu_chứng bệnh từ đầu tháng &lt;num&gt;</td>\n",
              "      <td>Ông Thắng cho biết có triệu_chứng bệnh từ đầu tháng 8</td>\n",
              "      <td>[O, B-NAME, O, O, O, O, O, O, O, O, O]</td>\n",
              "      <td>11</td>\n",
              "      <td>O B-NAME O O O O O O O O O</td>\n",
              "    </tr>\n",
              "    <tr>\n",
              "      <th>1470</th>\n",
              "      <td>ngày &lt;num&gt; - &lt;num&gt;/&lt;num&gt; bệnh_nhân chuyển điều_trị tại bệnh_viện đà_nẵng</td>\n",
              "      <td>Ngày 6 - 20/7 bệnh_nhân chuyển điều_trị tại Bệnh_viện Đà_Nẵng</td>\n",
              "      <td>[O, B-DATE, O, B-DATE, O, O, O, O, B-LOCATION, I-LOCATION]</td>\n",
              "      <td>10</td>\n",
              "      <td>O B-DATE O B-DATE O O O O B-LOCATION I-LOCATION</td>\n",
              "    </tr>\n",
              "    <tr>\n",
              "      <th>3710</th>\n",
              "      <td>chiều &lt;num&gt;/&lt;num&gt; kết_quả xét_nghiệm của viện vệ_sinh dịch_tễ trung_ương khẳng_định bệnh_nhân dương_tính với ncov</td>\n",
              "      <td>Chiều 20/3 kết_quả xét_nghiệm của Viện Vệ_sinh Dịch_tễ Trung_ương khẳng_định bệnh_nhân dương_tính với nCoV</td>\n",
              "      <td>[O, B-DATE, O, O, O, B-ORGANIZATION, I-ORGANIZATION, I-ORGANIZATION, I-ORGANIZATION, O, O, O, O, O]</td>\n",
              "      <td>14</td>\n",
              "      <td>O B-DATE O O O B-ORGANIZATION I-ORGANIZATION I-ORGANIZATION I-ORGANIZATION O O O O O</td>\n",
              "    </tr>\n",
              "    <tr>\n",
              "      <th>1131</th>\n",
              "      <td>hai bệnh_nhân &lt;num&gt; và &lt;num&gt; nhận giấy ra viện trưa &lt;num&gt;/&lt;num&gt;</td>\n",
              "      <td>Hai bệnh_nhân 517 và 589 nhận giấy ra viện trưa 25/8</td>\n",
              "      <td>[O, O, B-PATIENT_ID, O, B-PATIENT_ID, O, O, O, O, O, B-DATE]</td>\n",
              "      <td>11</td>\n",
              "      <td>O O B-PATIENT_ID O B-PATIENT_ID O O O O O B-DATE</td>\n",
              "    </tr>\n",
              "    <tr>\n",
              "      <th>3531</th>\n",
              "      <td>ngày &lt;num&gt; - &lt;num&gt; t. bắt_đầu có ho không sốt</td>\n",
              "      <td>Ngày 2 - 3 T. bắt_đầu có ho không sốt</td>\n",
              "      <td>[O, B-DATE, I-DATE, I-DATE, B-NAME, O, O, B-SYMPTOM_AND_DISEASE, O, O]</td>\n",
              "      <td>10</td>\n",
              "      <td>O B-DATE I-DATE I-DATE B-NAME O O B-SYMPTOM_AND_DISEASE O O</td>\n",
              "    </tr>\n",
              "    <tr>\n",
              "      <th>4396</th>\n",
              "      <td>bệnh_nhân &lt;num&gt; &lt;num&gt; tuổi ở xã tân_hồng huyện bình_giang tỉnh hải_dương</td>\n",
              "      <td>Bệnh_nhân 867 63 tuổi ở xã Tân_Hồng huyện Bình_Giang tỉnh Hải_Dương</td>\n",
              "      <td>[O, B-PATIENT_ID, B-AGE, O, O, B-LOCATION, I-LOCATION, B-LOCATION, I-LOCATION, B-LOCATION, I-LOCATION]</td>\n",
              "      <td>11</td>\n",
              "      <td>O B-PATIENT_ID B-AGE O O B-LOCATION I-LOCATION B-LOCATION I-LOCATION B-LOCATION I-LOCATION</td>\n",
              "    </tr>\n",
              "    <tr>\n",
              "      <th>3827</th>\n",
              "      <td>bệnh_nhân &lt;num&gt; nữ &lt;num&gt; tuổi cháu nội của bệnh_nhân &lt;num&gt;</td>\n",
              "      <td>Bệnh_nhân 1026 nữ 21 tuổi cháu nội của bệnh_nhân 1017</td>\n",
              "      <td>[O, B-PATIENT_ID, B-GENDER, B-AGE, O, O, O, O, O, B-PATIENT_ID]</td>\n",
              "      <td>10</td>\n",
              "      <td>O B-PATIENT_ID B-GENDER B-AGE O O O O O B-PATIENT_ID</td>\n",
              "    </tr>\n",
              "  </tbody>\n",
              "</table>\n",
              "</div>\n",
              "      <button class=\"colab-df-convert\" onclick=\"convertToInteractive('df-1b92bed0-5717-4de7-8e8e-e9e288dfc753')\"\n",
              "              title=\"Convert this dataframe to an interactive table.\"\n",
              "              style=\"display:none;\">\n",
              "        \n",
              "  <svg xmlns=\"http://www.w3.org/2000/svg\" height=\"24px\"viewBox=\"0 0 24 24\"\n",
              "       width=\"24px\">\n",
              "    <path d=\"M0 0h24v24H0V0z\" fill=\"none\"/>\n",
              "    <path d=\"M18.56 5.44l.94 2.06.94-2.06 2.06-.94-2.06-.94-.94-2.06-.94 2.06-2.06.94zm-11 1L8.5 8.5l.94-2.06 2.06-.94-2.06-.94L8.5 2.5l-.94 2.06-2.06.94zm10 10l.94 2.06.94-2.06 2.06-.94-2.06-.94-.94-2.06-.94 2.06-2.06.94z\"/><path d=\"M17.41 7.96l-1.37-1.37c-.4-.4-.92-.59-1.43-.59-.52 0-1.04.2-1.43.59L10.3 9.45l-7.72 7.72c-.78.78-.78 2.05 0 2.83L4 21.41c.39.39.9.59 1.41.59.51 0 1.02-.2 1.41-.59l7.78-7.78 2.81-2.81c.8-.78.8-2.07 0-2.86zM5.41 20L4 18.59l7.72-7.72 1.47 1.35L5.41 20z\"/>\n",
              "  </svg>\n",
              "      </button>\n",
              "      \n",
              "  <style>\n",
              "    .colab-df-container {\n",
              "      display:flex;\n",
              "      flex-wrap:wrap;\n",
              "      gap: 12px;\n",
              "    }\n",
              "\n",
              "    .colab-df-convert {\n",
              "      background-color: #E8F0FE;\n",
              "      border: none;\n",
              "      border-radius: 50%;\n",
              "      cursor: pointer;\n",
              "      display: none;\n",
              "      fill: #1967D2;\n",
              "      height: 32px;\n",
              "      padding: 0 0 0 0;\n",
              "      width: 32px;\n",
              "    }\n",
              "\n",
              "    .colab-df-convert:hover {\n",
              "      background-color: #E2EBFA;\n",
              "      box-shadow: 0px 1px 2px rgba(60, 64, 67, 0.3), 0px 1px 3px 1px rgba(60, 64, 67, 0.15);\n",
              "      fill: #174EA6;\n",
              "    }\n",
              "\n",
              "    [theme=dark] .colab-df-convert {\n",
              "      background-color: #3B4455;\n",
              "      fill: #D2E3FC;\n",
              "    }\n",
              "\n",
              "    [theme=dark] .colab-df-convert:hover {\n",
              "      background-color: #434B5C;\n",
              "      box-shadow: 0px 1px 3px 1px rgba(0, 0, 0, 0.15);\n",
              "      filter: drop-shadow(0px 1px 2px rgba(0, 0, 0, 0.3));\n",
              "      fill: #FFFFFF;\n",
              "    }\n",
              "  </style>\n",
              "\n",
              "      <script>\n",
              "        const buttonEl =\n",
              "          document.querySelector('#df-1b92bed0-5717-4de7-8e8e-e9e288dfc753 button.colab-df-convert');\n",
              "        buttonEl.style.display =\n",
              "          google.colab.kernel.accessAllowed ? 'block' : 'none';\n",
              "\n",
              "        async function convertToInteractive(key) {\n",
              "          const element = document.querySelector('#df-1b92bed0-5717-4de7-8e8e-e9e288dfc753');\n",
              "          const dataTable =\n",
              "            await google.colab.kernel.invokeFunction('convertToInteractive',\n",
              "                                                     [key], {});\n",
              "          if (!dataTable) return;\n",
              "\n",
              "          const docLinkHtml = 'Like what you see? Visit the ' +\n",
              "            '<a target=\"_blank\" href=https://colab.research.google.com/notebooks/data_table.ipynb>data table notebook</a>'\n",
              "            + ' to learn more about interactive tables.';\n",
              "          element.innerHTML = '';\n",
              "          dataTable['output_type'] = 'display_data';\n",
              "          await google.colab.output.renderOutput(dataTable, element);\n",
              "          const docLink = document.createElement('div');\n",
              "          docLink.innerHTML = docLinkHtml;\n",
              "          element.appendChild(docLink);\n",
              "        }\n",
              "      </script>\n",
              "    </div>\n",
              "  </div>\n",
              "  "
            ]
          },
          "metadata": {},
          "execution_count": 13
        }
      ]
    },
    {
      "cell_type": "markdown",
      "source": [
        "#MODEL"
      ],
      "metadata": {
        "id": "x003rxWDK-tm"
      }
    },
    {
      "cell_type": "code",
      "source": [
        "pre_train = {\n",
        "    'mbert': 'bert-base-multilingual-cased',\n",
        "    'xlmr_base': 'xlm-roberta-base',\n",
        "    'xlmr_large': 'xlm-roberta-large',\n",
        "    'phobert': 'vinai/phobert-base'\n",
        "}\n",
        "pre_trained_name = pre_train['phobert']\n",
        "MAX_LEN = 128"
      ],
      "metadata": {
        "id": "1qutlaprxZxP"
      },
      "execution_count": null,
      "outputs": []
    },
    {
      "cell_type": "code",
      "source": [
        "tag_values = ['O',\n",
        " 'B-ORGANIZATION',\n",
        " 'I-ORGANIZATION',\n",
        " 'B-SYMPTOM_AND_DISEASE',\n",
        " 'I-SYMPTOM_AND_DISEASE',\n",
        " 'B-LOCATION',\n",
        " 'B-DATE',\n",
        " 'B-PATIENT_ID',\n",
        " 'B-AGE',\n",
        " 'B-NAME',\n",
        " 'I-DATE',\n",
        " 'B-JOB',\n",
        " 'I-LOCATION',\n",
        " 'B-TRANSPORTATION',\n",
        " 'B-GENDER',\n",
        " 'I-TRANSPORTATION',\n",
        " 'I-JOB',\n",
        " 'I-NAME',\n",
        " 'I-AGE',\n",
        " 'I-PATIENT_ID']\n",
        "tags = ClassLabel(num_classes=len(tag_values), names=tag_values)"
      ],
      "metadata": {
        "id": "A91UfftyG43t"
      },
      "execution_count": null,
      "outputs": []
    },
    {
      "cell_type": "code",
      "source": [
        "index2tag = {idx: tag for idx, tag in enumerate(tags.names)}\n",
        "tag2index = {tag: idx for idx, tag in enumerate(tags.names)}\n",
        "tokenizer = AutoTokenizer.from_pretrained(pre_trained_name, do_lower_case=False,use_fast=True)\n",
        "config = AutoConfig.from_pretrained(pre_trained_name, output_hidden_states=False,\n",
        "                                    id2label=index2tag, label2id=tag2index)\n",
        "# model = AutoModel.from_pretrained(pre_trained_name, config=config)\n",
        "config.hidden_dropout_prob = bert_hidd_dropout\n",
        "config.attention_probs_dropout_prob = bert_att_dropout"
      ],
      "metadata": {
        "id": "UwBeTHH4xT-G",
        "colab": {
          "base_uri": "https://localhost:8080/",
          "height": 130,
          "referenced_widgets": [
            "c3f8819813884e568e6468b34e6dcab3",
            "2f11b21373d6425d8ddbcfcfca07e8d5",
            "87b58c530edf4b20bd956150c1b73f8b",
            "0af41646d9434c0a96d6d59b04ce99e7",
            "da0fb2104b594728930ad4299c11ee18",
            "d22108c032ff4d05990c2b34c6eea752",
            "6d207aa7ab354d238a82c6b39ad85a9b",
            "591d2bb87a3a48b3be19531afaca2284",
            "2ca09b299a9441ad8b3cc2924381775e",
            "f45965c19657424da7e7ed280b39c7ef",
            "3bfed50423c74b53aefbc79c642fa874",
            "b310d77bd7e840f9beebe1bff6535fbb",
            "189dfb70792a45c29d23f5b790751339",
            "ca3c437b5208416ba5fae674246557fa",
            "ece865726cf14c23ada9331d4a2bff5d",
            "cf009c2b21f44a5aaae1b4edd8c055e0",
            "f8fe4372f3d0478dbfa639f8251b26e8",
            "cb5722094c6f4d5387085ceed383b2ea",
            "298f066781844a37b88d8993c393515c",
            "af66c49fe2e04a91bd3363728c24dded",
            "58899af6fc15487d962f398faf53614c",
            "6038e4d9bf4c43a998b3294242c93bc1",
            "cd67ab0227214c9884883d6408a6b36d",
            "22dfade2f1944127bccca523c92ed803",
            "886df8f1958f4dd5ac96105aaa77a48d",
            "e78b2b39e4c04db388e22a57f2fdb577",
            "66ca634fe0714ddfa0d95e364b9cabc4",
            "a40664ded8934e5c9abe4bf141a8d6af",
            "2e930898213e4baba2c85da3f729f172",
            "594dad4fa93b470cb203f032eed89be9",
            "8c1747182972404f9dda9b98710b7626",
            "9e953044306644038a7c18c59521f91a",
            "a2ad726a7c984369a2129858b3541f9e"
          ]
        },
        "outputId": "f6d51294-7551-4c83-e161-d77e1454b15b"
      },
      "execution_count": null,
      "outputs": [
        {
          "output_type": "display_data",
          "data": {
            "text/plain": [
              "Downloading:   0%|          | 0.00/557 [00:00<?, ?B/s]"
            ],
            "application/vnd.jupyter.widget-view+json": {
              "version_major": 2,
              "version_minor": 0,
              "model_id": "c3f8819813884e568e6468b34e6dcab3"
            }
          },
          "metadata": {}
        },
        {
          "output_type": "display_data",
          "data": {
            "text/plain": [
              "Downloading:   0%|          | 0.00/895k [00:00<?, ?B/s]"
            ],
            "application/vnd.jupyter.widget-view+json": {
              "version_major": 2,
              "version_minor": 0,
              "model_id": "b310d77bd7e840f9beebe1bff6535fbb"
            }
          },
          "metadata": {}
        },
        {
          "output_type": "display_data",
          "data": {
            "text/plain": [
              "Downloading:   0%|          | 0.00/1.14M [00:00<?, ?B/s]"
            ],
            "application/vnd.jupyter.widget-view+json": {
              "version_major": 2,
              "version_minor": 0,
              "model_id": "cd67ab0227214c9884883d6408a6b36d"
            }
          },
          "metadata": {}
        },
        {
          "output_type": "stream",
          "name": "stderr",
          "text": [
            "Special tokens have been added in the vocabulary, make sure the associated word embeddings are fine-tuned or trained.\n"
          ]
        }
      ]
    },
    {
      "cell_type": "markdown",
      "source": [
        "## Without CRF"
      ],
      "metadata": {
        "id": "mNEVhp4eTIdm"
      }
    },
    {
      "cell_type": "code",
      "source": [
        "def align_predictions(predictions, label_ids):\n",
        "  preds = np.argmax(predictions, axis=2)\n",
        "  batch_size, seq_len = preds.shape\n",
        "  labels_list, preds_list = [], []\n",
        "  for batch_idx in range(batch_size):\n",
        "    example_labels, example_preds = [], []\n",
        "    for seq_idx in range(seq_len):\n",
        "      if label_ids[batch_idx, seq_idx] != -100:\n",
        "        example_labels.append(index2tag[label_ids[batch_idx][seq_idx]])\n",
        "        example_preds.append(index2tag[preds[batch_idx][seq_idx]])\n",
        "    labels_list.append(example_labels)\n",
        "    preds_list.append(example_preds)\n",
        "  return preds_list, labels_list"
      ],
      "metadata": {
        "id": "ERimFrNNUvK3"
      },
      "execution_count": null,
      "outputs": []
    },
    {
      "cell_type": "code",
      "source": [
        "def get_word_ids(encoded, tokenized):\n",
        "  word_ids = [None] * len(encoded)\n",
        "  prev_flag = 0\n",
        "  cnt = 0\n",
        "  for ind, (x,y) in enumerate(zip(encoded[1:], tokenized)):\n",
        "    if x > 2:\n",
        "      word_ids[ind+1] = cnt\n",
        "      if y[-2:] == '@@':\n",
        "        prev_flag = 1\n",
        "      else:\n",
        "        prev_flag = 0\n",
        "      if prev_flag == 0:\n",
        "        cnt += 1\n",
        "  return word_ids\n",
        "\n",
        "def encode(r):\n",
        "  X = tokenizer(r['word_process'], \n",
        "                truncation=True,\n",
        "                padding='max_length', \n",
        "                max_length=MAX_LEN)\n",
        "  tokenized = tokenizer.tokenize(r['word_process']) \n",
        "  previous_word_idx = None\n",
        "  label_ids = []\n",
        "  word_ids = get_word_ids(X['input_ids'], tokenized)\n",
        "  for word_idx in word_ids:\n",
        "    if word_idx is None:\n",
        "      label_ids.append(0)\n",
        "    else:\n",
        "      label_ids.append(tag2index[r['tag'][word_idx]])\n",
        "    previous_word_idx = word_idx\n",
        "  return X.input_ids, label_ids\n",
        "\n",
        "def preprocess(df):\n",
        "  df[['tokenized_sentence','tokenized_labels']] = df.apply(lambda x: encode(x),  axis=1, result_type='expand')\n",
        "  return df\n",
        "\n",
        "word_train_data_group = preprocess(word_train_data_group)\n",
        "word_val_data_group = preprocess(word_val_data_group)\n",
        "word_test_data_group = preprocess(word_test_data_group)"
      ],
      "metadata": {
        "id": "_JEPJX0u3xiV"
      },
      "execution_count": null,
      "outputs": []
    },
    {
      "cell_type": "code",
      "source": [
        "datasets_train_test = DatasetDict({\n",
        "    \"train\": Dataset.from_pandas(word_train_data_group[['tokenized_sentence', 'tokenized_labels']].rename(columns={'tokenized_sentence': 'input_ids',\n",
        "                                                                                  'tokenized_labels': 'labels'})),\n",
        "    \"valid\": Dataset.from_pandas(word_val_data_group[['tokenized_sentence', 'tokenized_labels']].rename(columns={'tokenized_sentence': 'input_ids',\n",
        "                                                                                  'tokenized_labels': 'labels'})),\n",
        "    \"test\": Dataset.from_pandas(word_test_data_group[['tokenized_sentence', 'tokenized_labels']].rename(columns={'tokenized_sentence': 'input_ids',\n",
        "                                                                                  'tokenized_labels': 'labels'}))\n",
        "    })\n",
        "datasets_train_test"
      ],
      "metadata": {
        "colab": {
          "base_uri": "https://localhost:8080/"
        },
        "id": "BFCiwVzSxyFX",
        "outputId": "d48dffc5-d6ac-4797-a42d-0e24dbd228ec"
      },
      "execution_count": null,
      "outputs": [
        {
          "output_type": "execute_result",
          "data": {
            "text/plain": [
              "DatasetDict({\n",
              "    train: Dataset({\n",
              "        features: ['input_ids', 'labels', 'idx'],\n",
              "        num_rows: 5027\n",
              "    })\n",
              "    valid: Dataset({\n",
              "        features: ['input_ids', 'labels', 'idx'],\n",
              "        num_rows: 2000\n",
              "    })\n",
              "    test: Dataset({\n",
              "        features: ['input_ids', 'labels', 'idx'],\n",
              "        num_rows: 3000\n",
              "    })\n",
              "})"
            ]
          },
          "metadata": {},
          "execution_count": 19
        }
      ]
    },
    {
      "cell_type": "code",
      "source": [
        "class XLMRobertaForTokenClassification(RobertaPreTrainedModel):\n",
        "  config_class = XLMRobertaConfig\n",
        "  def __init__(self, config, num_layer=197):\n",
        "    super().__init__(config)\n",
        "    self.num_labels = config.num_labels\n",
        "    # Load model body\n",
        "    self.roberta = RobertaModel(config, add_pooling_layer=False)\n",
        "    self.dropout = nn.Dropout(config.hidden_dropout_prob)\n",
        "    self.classifier = nn.Linear(config.hidden_size, config.num_labels)\n",
        "    # Load and initialize weights\n",
        "    self.init_weights()\n",
        "  def forward(self, input_ids=None, attention_mask=None, token_type_ids=None,labels=None, **kwargs):\n",
        "    # Use model body to get encoder representations\n",
        "    outputs = self.roberta(input_ids, attention_mask=attention_mask,\n",
        "    token_type_ids=token_type_ids, **kwargs)\n",
        "    # Apply classifier to encoder representation\n",
        "    sequence_output = self.dropout(outputs[0])\n",
        "    logits = self.classifier(sequence_output)\n",
        "    # Calculate losses\n",
        "    loss = None\n",
        "    if labels is not None:\n",
        "      loss_fct = nn.CrossEntropyLoss()\n",
        "      loss = loss_fct(logits.view(-1, self.num_labels), labels.view(-1))\n",
        "    # Return model output object\n",
        "    return TokenClassifierOutput(loss=loss, logits=logits,\n",
        "        hidden_states=outputs.hidden_states,\n",
        "        attentions=outputs.attentions)"
      ],
      "metadata": {
        "id": "He6IAEPkTK4D"
      },
      "execution_count": null,
      "outputs": []
    },
    {
      "cell_type": "markdown",
      "source": [
        "## With CRF"
      ],
      "metadata": {
        "id": "6KRuIYDqTA4j"
      }
    },
    {
      "cell_type": "code",
      "source": [
        "def align_predictions(predictions, label_ids):\n",
        "  preds = predictions\n",
        "  batch_size, seq_len = preds.shape\n",
        "  labels_list, preds_list = [], []\n",
        "  for batch_idx in range(batch_size):\n",
        "    example_labels, example_preds = [], []\n",
        "    for seq_idx in range(seq_len):\n",
        "      if label_ids[batch_idx, seq_idx] != -100:\n",
        "        example_labels.append(index2tag[label_ids[batch_idx][seq_idx]])\n",
        "        example_preds.append(index2tag[preds[batch_idx][seq_idx]])\n",
        "    labels_list.append(example_labels)\n",
        "    preds_list.append(example_preds)\n",
        "  return preds_list, labels_list\n",
        "\n",
        "def compute_metrics(eval_pred):\n",
        "  print(eval_pred)\n",
        "  y_pred, y_true = align_predictions(eval_pred.predictions,\n",
        "                                     eval_pred.label_ids)\n",
        "  return {\"f1\": f1_score(y_true, y_pred)}"
      ],
      "metadata": {
        "id": "hyY6KorfexxI"
      },
      "execution_count": null,
      "outputs": []
    },
    {
      "cell_type": "code",
      "source": [
        "def get_word_ids(encoded, tokenized):\n",
        "  word_ids = [None] * len(encoded)\n",
        "  prev_flag = 0\n",
        "  cnt = 0\n",
        "  for ind, (x,y) in enumerate(zip(encoded[1:], tokenized)):\n",
        "    if x > 2:\n",
        "      word_ids[ind+1] = cnt\n",
        "      if y[-2:] == '@@':\n",
        "        prev_flag = 1\n",
        "      else:\n",
        "        prev_flag = 0\n",
        "      if prev_flag == 0:\n",
        "        cnt += 1\n",
        "  return word_ids\n",
        "\n",
        "def encode(r):\n",
        "  X = tokenizer(r['word_process'], \n",
        "                truncation=True,\n",
        "                padding='max_length', \n",
        "                max_length=MAX_LEN)\n",
        "  tokenized = tokenizer.tokenize(r['word_process']) \n",
        "  previous_word_idx = None\n",
        "  label_ids = []\n",
        "  word_ids = get_word_ids(X['input_ids'], tokenized)  \n",
        "  label_ids_mask = []\n",
        "  for word_idx in word_ids:\n",
        "    if word_idx is None :\n",
        "      label_ids.append(0)\n",
        "    else:\n",
        "      label_ids.append(tag2index[r['tag'][word_idx]])\n",
        "    \n",
        "    if word_idx is None or word_idx == previous_word_idx:\n",
        "      label_ids_mask.append(False)\n",
        "    elif word_idx != previous_word_idx:\n",
        "      label_ids_mask.append(True)\n",
        "    previous_word_idx = word_idx\n",
        "  return X.input_ids, label_ids, label_ids_mask\n",
        "\n",
        "def preprocess(df):\n",
        "  df[['tokenized_sentence','tokenized_labels', 'label_ids_mask']] = df.apply(lambda x: encode(x),  axis=1, result_type='expand')\n",
        "  return df\n",
        "\n",
        "word_train_data_group = preprocess(word_train_data_group)\n",
        "word_val_data_group = preprocess(word_val_data_group)\n",
        "word_test_data_group = preprocess(word_test_data_group)"
      ],
      "metadata": {
        "id": "us60W_yGT2v5"
      },
      "execution_count": null,
      "outputs": []
    },
    {
      "cell_type": "code",
      "source": [
        "datasets_train_test = DatasetDict({\n",
        "    \"train\": Dataset.from_pandas(word_train_data_group[['tokenized_sentence', 'tokenized_labels']].rename(columns={'tokenized_sentence': 'input_ids',\n",
        "                                                                                  'tokenized_labels': 'labels'})),\n",
        "    \"valid\": Dataset.from_pandas(word_val_data_group[['tokenized_sentence', 'tokenized_labels']].rename(columns={'tokenized_sentence': 'input_ids',\n",
        "                                                                                  'tokenized_labels': 'labels'})),\n",
        "    \"test\": Dataset.from_pandas(word_test_data_group[['tokenized_sentence', 'tokenized_labels']].rename(columns={'tokenized_sentence': 'input_ids',\n",
        "                                                                                  'tokenized_labels': 'labels'}))\n",
        "    })\n",
        "datasets_train_test"
      ],
      "metadata": {
        "colab": {
          "base_uri": "https://localhost:8080/"
        },
        "outputId": "9439a871-0dd8-45eb-cfdf-57cc7a77e795",
        "id": "O_4ZwCsYVXuu"
      },
      "execution_count": null,
      "outputs": [
        {
          "output_type": "execute_result",
          "data": {
            "text/plain": [
              "DatasetDict({\n",
              "    train: Dataset({\n",
              "        features: ['input_ids', 'labels', 'idx'],\n",
              "        num_rows: 5027\n",
              "    })\n",
              "    valid: Dataset({\n",
              "        features: ['input_ids', 'labels', 'idx'],\n",
              "        num_rows: 2000\n",
              "    })\n",
              "    test: Dataset({\n",
              "        features: ['input_ids', 'labels', 'idx'],\n",
              "        num_rows: 3000\n",
              "    })\n",
              "})"
            ]
          },
          "metadata": {},
          "execution_count": 25
        }
      ]
    },
    {
      "cell_type": "code",
      "source": [
        "class XLMRobertaForTokenClassification(RobertaPreTrainedModel):\n",
        "  config_class = XLMRobertaConfig\n",
        "  def __init__(self, config, num_layer=197):\n",
        "    super().__init__(config)\n",
        "    self.num_labels = config.num_labels\n",
        "    # Load model body\n",
        "    self.roberta = RobertaModel(config, add_pooling_layer=False)\n",
        "    # Set up token classification head\n",
        "    self.dropout = nn.Dropout(config.hidden_dropout_prob)\n",
        "    self.classifier = nn.Linear(config.hidden_size, config.num_labels)\n",
        "    self.crf = CRF(num_tags=self.num_labels)\n",
        "    # Load and initialize weights\n",
        "    self.init_weights()\n",
        "  def forward(self, input_ids=None, attention_mask=None, token_type_ids=None,labels=None, **kwargs):\n",
        "    outputs = self.roberta(input_ids=input_ids,\n",
        "                        token_type_ids=token_type_ids,\n",
        "                        attention_mask=attention_mask)\n",
        "    sequence_output = self.dropout(outputs[0])\n",
        "    emissions = self.classifier(sequence_output)\n",
        "\n",
        "    if labels is not None:\n",
        "        log_likelihood = self.crf(emissions, labels)\n",
        "        sequence_of_tags = torch.Tensor(self.crf.decode(emissions))\n",
        "        return TokenClassifierOutput(loss=-log_likelihood, logits=torch.Tensor(sequence_of_tags).T)\n",
        "    else:\n",
        "        sequence_of_tags = self.crf.decode(emissions)\n",
        "        return sequence_of_tags"
      ],
      "metadata": {
        "id": "5MRWeplevv2K"
      },
      "execution_count": null,
      "outputs": []
    },
    {
      "cell_type": "markdown",
      "source": [
        "## Run model"
      ],
      "metadata": {
        "id": "6QDxoL6bTPYM"
      }
    },
    {
      "cell_type": "code",
      "source": [
        "num_epochs = 10\n",
        "batch_size = 8\n",
        "\n",
        "def model_init():\n",
        "  return (XLMRobertaForTokenClassification.from_pretrained(pre_trained_name, config=config).to(device))\n",
        "\n",
        "training_args = TrainingArguments(\n",
        "      output_dir=pre_trained_name+'_output', log_level=\"error\", num_train_epochs=num_epochs,\n",
        "      per_device_train_batch_size=batch_size,\n",
        "      per_device_eval_batch_size=batch_size, evaluation_strategy=\"epoch\",\n",
        "      logging_steps=len(datasets_train_test[\"train\"]) // batch_size,\n",
        "       save_steps=1e6, weight_decay=0.01, disable_tqdm=False, push_to_hub=False)\n",
        "\n",
        "data_collator = DataCollatorForTokenClassification(tokenizer)\n",
        "trainer = Trainer(model_init=model_init, args=training_args,\n",
        "        data_collator=data_collator, compute_metrics=compute_metrics,\n",
        "        train_dataset=datasets_train_test[\"train\"],\n",
        "        eval_dataset=datasets_train_test[\"valid\"],\n",
        "        tokenizer=tokenizer)"
      ],
      "metadata": {
        "id": "coJPnI3PtaJI",
        "colab": {
          "base_uri": "https://localhost:8080/"
        },
        "outputId": "1fe8ab96-3956-4d64-a723-da3fa7bbd4b4"
      },
      "execution_count": null,
      "outputs": [
        {
          "output_type": "stream",
          "name": "stderr",
          "text": [
            "PyTorch: setting up devices\n",
            "The default value for the training argument `--report_to` will change in v5 (from all installed integrations to none). In v5, you will need to use `--report_to all` to get the same behavior as now. You should start updating your code and make this info disappear :-).\n"
          ]
        }
      ]
    },
    {
      "cell_type": "code",
      "source": [
        "#Without CRF\n",
        "trainer.train()"
      ],
      "metadata": {
        "colab": {
          "base_uri": "https://localhost:8080/",
          "height": 597
        },
        "id": "AM9FZDGbe1iW",
        "outputId": "bd1d4155-9cb9-46ae-f0d6-48ba5f947f11"
      },
      "execution_count": null,
      "outputs": [
        {
          "output_type": "display_data",
          "data": {
            "text/plain": [
              "<IPython.core.display.HTML object>"
            ],
            "text/html": [
              "\n",
              "    <div>\n",
              "      \n",
              "      <progress value='6290' max='6290' style='width:300px; height:20px; vertical-align: middle;'></progress>\n",
              "      [6290/6290 26:31, Epoch 10/10]\n",
              "    </div>\n",
              "    <table border=\"1\" class=\"dataframe\">\n",
              "  <thead>\n",
              " <tr style=\"text-align: left;\">\n",
              "      <th>Epoch</th>\n",
              "      <th>Training Loss</th>\n",
              "      <th>Validation Loss</th>\n",
              "      <th>F1</th>\n",
              "    </tr>\n",
              "  </thead>\n",
              "  <tbody>\n",
              "    <tr>\n",
              "      <td>1</td>\n",
              "      <td>0.116000</td>\n",
              "      <td>0.042807</td>\n",
              "      <td>0.927180</td>\n",
              "    </tr>\n",
              "    <tr>\n",
              "      <td>2</td>\n",
              "      <td>0.024900</td>\n",
              "      <td>0.037363</td>\n",
              "      <td>0.926817</td>\n",
              "    </tr>\n",
              "    <tr>\n",
              "      <td>3</td>\n",
              "      <td>0.015500</td>\n",
              "      <td>0.032554</td>\n",
              "      <td>0.948148</td>\n",
              "    </tr>\n",
              "    <tr>\n",
              "      <td>4</td>\n",
              "      <td>0.011700</td>\n",
              "      <td>0.033013</td>\n",
              "      <td>0.952860</td>\n",
              "    </tr>\n",
              "    <tr>\n",
              "      <td>5</td>\n",
              "      <td>0.008900</td>\n",
              "      <td>0.036201</td>\n",
              "      <td>0.955189</td>\n",
              "    </tr>\n",
              "    <tr>\n",
              "      <td>6</td>\n",
              "      <td>0.006900</td>\n",
              "      <td>0.037430</td>\n",
              "      <td>0.953070</td>\n",
              "    </tr>\n",
              "    <tr>\n",
              "      <td>7</td>\n",
              "      <td>0.005600</td>\n",
              "      <td>0.035861</td>\n",
              "      <td>0.955184</td>\n",
              "    </tr>\n",
              "    <tr>\n",
              "      <td>8</td>\n",
              "      <td>0.004600</td>\n",
              "      <td>0.038534</td>\n",
              "      <td>0.956904</td>\n",
              "    </tr>\n",
              "    <tr>\n",
              "      <td>9</td>\n",
              "      <td>0.003600</td>\n",
              "      <td>0.038673</td>\n",
              "      <td>0.957643</td>\n",
              "    </tr>\n",
              "    <tr>\n",
              "      <td>10</td>\n",
              "      <td>0.003100</td>\n",
              "      <td>0.039340</td>\n",
              "      <td>0.957214</td>\n",
              "    </tr>\n",
              "  </tbody>\n",
              "</table><p>"
            ]
          },
          "metadata": {}
        },
        {
          "output_type": "stream",
          "name": "stdout",
          "text": [
            "<transformers.trainer_utils.EvalPrediction object at 0x7feba6ae51c0>\n",
            "<transformers.trainer_utils.EvalPrediction object at 0x7feba6aac3a0>\n",
            "<transformers.trainer_utils.EvalPrediction object at 0x7feba67bbb20>\n",
            "<transformers.trainer_utils.EvalPrediction object at 0x7feba6e75dc0>\n",
            "<transformers.trainer_utils.EvalPrediction object at 0x7feba6aac3a0>\n",
            "<transformers.trainer_utils.EvalPrediction object at 0x7feba6e75dc0>\n",
            "<transformers.trainer_utils.EvalPrediction object at 0x7feba6c9dd00>\n",
            "<transformers.trainer_utils.EvalPrediction object at 0x7feba67bbb20>\n",
            "<transformers.trainer_utils.EvalPrediction object at 0x7feba6cac790>\n",
            "<transformers.trainer_utils.EvalPrediction object at 0x7feba6e75fd0>\n"
          ]
        },
        {
          "output_type": "execute_result",
          "data": {
            "text/plain": [
              "TrainOutput(global_step=6290, training_loss=0.02005262237829889, metrics={'train_runtime': 1591.3081, 'train_samples_per_second': 31.59, 'train_steps_per_second': 3.953, 'total_flos': 3284381393356800.0, 'train_loss': 0.02005262237829889, 'epoch': 10.0})"
            ]
          },
          "metadata": {},
          "execution_count": 33
        }
      ]
    },
    {
      "cell_type": "code",
      "source": [
        "#With CRF\n",
        "trainer.train()"
      ],
      "metadata": {
        "colab": {
          "base_uri": "https://localhost:8080/",
          "height": 686
        },
        "id": "dS0HhP6E0Qqu",
        "outputId": "66c38a56-358a-4c24-c529-ad492964447b"
      },
      "execution_count": null,
      "outputs": [
        {
          "output_type": "stream",
          "name": "stderr",
          "text": [
            "/usr/local/lib/python3.8/dist-packages/transformers/optimization.py:306: FutureWarning: This implementation of AdamW is deprecated and will be removed in a future version. Use the PyTorch implementation torch.optim.AdamW instead, or set `no_deprecation_warning=True` to disable this warning\n",
            "  warnings.warn(\n",
            "/usr/local/lib/python3.8/dist-packages/torchcrf/__init__.py:249: UserWarning: where received a uint8 condition tensor. This behavior is deprecated and will be removed in a future version of PyTorch. Use a boolean condition instead. (Triggered internally at ../aten/src/ATen/native/TensorCompare.cpp:413.)\n",
            "  score = torch.where(mask[i].unsqueeze(1), next_score, score)\n"
          ]
        },
        {
          "output_type": "display_data",
          "data": {
            "text/plain": [
              "<IPython.core.display.HTML object>"
            ],
            "text/html": [
              "\n",
              "    <div>\n",
              "      \n",
              "      <progress value='6290' max='6290' style='width:300px; height:20px; vertical-align: middle;'></progress>\n",
              "      [6290/6290 28:43, Epoch 10/10]\n",
              "    </div>\n",
              "    <table border=\"1\" class=\"dataframe\">\n",
              "  <thead>\n",
              " <tr style=\"text-align: left;\">\n",
              "      <th>Epoch</th>\n",
              "      <th>Training Loss</th>\n",
              "      <th>Validation Loss</th>\n",
              "      <th>F1</th>\n",
              "    </tr>\n",
              "  </thead>\n",
              "  <tbody>\n",
              "    <tr>\n",
              "      <td>1</td>\n",
              "      <td>129.115400</td>\n",
              "      <td>50.046757</td>\n",
              "      <td>0.919564</td>\n",
              "    </tr>\n",
              "    <tr>\n",
              "      <td>2</td>\n",
              "      <td>26.210700</td>\n",
              "      <td>37.470631</td>\n",
              "      <td>0.944728</td>\n",
              "    </tr>\n",
              "    <tr>\n",
              "      <td>3</td>\n",
              "      <td>18.666800</td>\n",
              "      <td>42.304386</td>\n",
              "      <td>0.953071</td>\n",
              "    </tr>\n",
              "    <tr>\n",
              "      <td>4</td>\n",
              "      <td>15.258100</td>\n",
              "      <td>48.948647</td>\n",
              "      <td>0.953515</td>\n",
              "    </tr>\n",
              "    <tr>\n",
              "      <td>5</td>\n",
              "      <td>13.750600</td>\n",
              "      <td>55.402122</td>\n",
              "      <td>0.956949</td>\n",
              "    </tr>\n",
              "    <tr>\n",
              "      <td>6</td>\n",
              "      <td>11.625800</td>\n",
              "      <td>60.970642</td>\n",
              "      <td>0.958472</td>\n",
              "    </tr>\n",
              "    <tr>\n",
              "      <td>7</td>\n",
              "      <td>10.107400</td>\n",
              "      <td>62.688400</td>\n",
              "      <td>0.958478</td>\n",
              "    </tr>\n",
              "    <tr>\n",
              "      <td>8</td>\n",
              "      <td>8.638800</td>\n",
              "      <td>66.585999</td>\n",
              "      <td>0.959117</td>\n",
              "    </tr>\n",
              "    <tr>\n",
              "      <td>9</td>\n",
              "      <td>7.118200</td>\n",
              "      <td>68.496750</td>\n",
              "      <td>0.959107</td>\n",
              "    </tr>\n",
              "    <tr>\n",
              "      <td>10</td>\n",
              "      <td>5.749000</td>\n",
              "      <td>71.134140</td>\n",
              "      <td>0.959806</td>\n",
              "    </tr>\n",
              "  </tbody>\n",
              "</table><p>"
            ]
          },
          "metadata": {}
        },
        {
          "output_type": "stream",
          "name": "stdout",
          "text": [
            "<transformers.trainer_utils.EvalPrediction object at 0x7feba6cbf580>\n",
            "<transformers.trainer_utils.EvalPrediction object at 0x7feba6914b80>\n",
            "<transformers.trainer_utils.EvalPrediction object at 0x7feba6920ac0>\n",
            "<transformers.trainer_utils.EvalPrediction object at 0x7feba6948640>\n",
            "<transformers.trainer_utils.EvalPrediction object at 0x7feba68c24f0>\n",
            "<transformers.trainer_utils.EvalPrediction object at 0x7feba692adf0>\n",
            "<transformers.trainer_utils.EvalPrediction object at 0x7feba6ca61c0>\n",
            "<transformers.trainer_utils.EvalPrediction object at 0x7feba6cbf3d0>\n",
            "<transformers.trainer_utils.EvalPrediction object at 0x7feba68c8040>\n",
            "<transformers.trainer_utils.EvalPrediction object at 0x7feba692adf0>\n"
          ]
        },
        {
          "output_type": "execute_result",
          "data": {
            "text/plain": [
              "TrainOutput(global_step=6290, training_loss=24.599759973668522, metrics={'train_runtime': 1726.9326, 'train_samples_per_second': 29.109, 'train_steps_per_second': 3.642, 'total_flos': 3284398380595200.0, 'train_loss': 24.599759973668522, 'epoch': 10.0})"
            ]
          },
          "metadata": {},
          "execution_count": 22
        }
      ]
    },
    {
      "cell_type": "code",
      "source": [
        "trainer.save_model('phobert-base')"
      ],
      "metadata": {
        "id": "oB46N5lLfb-7"
      },
      "execution_count": null,
      "outputs": []
    },
    {
      "cell_type": "markdown",
      "source": [
        "# Evaluation"
      ],
      "metadata": {
        "id": "fY1Cliq4tG09"
      }
    },
    {
      "cell_type": "markdown",
      "source": [
        "## Without CRF"
      ],
      "metadata": {
        "id": "FIRAmpm-TX03"
      }
    },
    {
      "cell_type": "code",
      "source": [
        "model = XLMRobertaForTokenClassification.from_pretrained('/content/drive/MyDrive/phobert-base', config=config)\n",
        "trainer = Trainer(model=model)\n",
        "x=trainer.predict(datasets_train_test['test'])"
      ],
      "metadata": {
        "colab": {
          "base_uri": "https://localhost:8080/",
          "height": 106
        },
        "id": "ql8NdXfiTZ1H",
        "outputId": "5d623548-71bc-42f8-c74f-56afd212b107"
      },
      "execution_count": null,
      "outputs": [
        {
          "output_type": "stream",
          "name": "stderr",
          "text": [
            "The following columns in the test set don't have a corresponding argument in `XLMRobertaForTokenClassification.forward` and have been ignored: idx. If idx are not expected by `XLMRobertaForTokenClassification.forward`,  you can safely ignore this message.\n",
            "***** Running Prediction *****\n",
            "  Num examples = 3000\n",
            "  Batch size = 8\n"
          ]
        },
        {
          "output_type": "display_data",
          "data": {
            "text/plain": [
              "<IPython.core.display.HTML object>"
            ],
            "text/html": []
          },
          "metadata": {}
        }
      ]
    },
    {
      "cell_type": "code",
      "source": [
        "pred = np.argmax(x.predictions, axis=2)\n",
        "lab = np.array(datasets_train_test['test']['labels'])\n",
        "preds_list, labels_list = align_predictions(x.predictions, lab)\n",
        "print(classification_report(labels_list, preds_list, digits=4))"
      ],
      "metadata": {
        "colab": {
          "base_uri": "https://localhost:8080/"
        },
        "id": "-0Cb7TF2TcDj",
        "outputId": "72c5dfad-0548-4915-bae6-27d3971d59fa"
      },
      "execution_count": null,
      "outputs": [
        {
          "output_type": "stream",
          "name": "stdout",
          "text": [
            "                     precision    recall  f1-score   support\n",
            "\n",
            "                AGE     0.9546    0.9700    0.9623      1735\n",
            "               DATE     0.9832    0.9954    0.9893      7656\n",
            "             GENDER     0.9579    0.9795    0.9686       488\n",
            "                JOB     0.7784    0.8136    0.7956       177\n",
            "           LOCATION     0.9318    0.9347    0.9332      7172\n",
            "               NAME     0.9372    0.9420    0.9396       983\n",
            "       ORGANIZATION     0.8418    0.8737    0.8574       950\n",
            "         PATIENT_ID     0.9668    0.9842    0.9754      6027\n",
            "SYMPTOM_AND_DISEASE     0.8427    0.8225    0.8325      1172\n",
            "     TRANSPORTATION     0.9664    0.9942    0.9801       694\n",
            "\n",
            "          micro avg     0.9492    0.9600    0.9546     27054\n",
            "          macro avg     0.9161    0.9310    0.9234     27054\n",
            "       weighted avg     0.9491    0.9600    0.9545     27054\n",
            "\n"
          ]
        }
      ]
    },
    {
      "cell_type": "markdown",
      "source": [
        "## With CRF"
      ],
      "metadata": {
        "id": "Zr4jJ8YiTTeA"
      }
    },
    {
      "cell_type": "code",
      "source": [
        "model = XLMRobertaForTokenClassification.from_pretrained('/content/drive/MyDrive/phobert-base-crf', config=config)\n",
        "trainer = Trainer(model=model)\n",
        "x=trainer.predict(datasets_train_test['test'])"
      ],
      "metadata": {
        "colab": {
          "base_uri": "https://localhost:8080/",
          "height": 280
        },
        "id": "BYgOpgZgq-Dy",
        "outputId": "af78c57b-a91e-49b0-c93c-f0014e196bd0"
      },
      "execution_count": null,
      "outputs": [
        {
          "output_type": "stream",
          "name": "stderr",
          "text": [
            "loading weights file /content/drive/MyDrive/phobert-base-crf/pytorch_model.bin\n",
            "All model checkpoint weights were used when initializing XLMRobertaForTokenClassification.\n",
            "\n",
            "All the weights of XLMRobertaForTokenClassification were initialized from the model checkpoint at /content/drive/MyDrive/phobert-base-crf.\n",
            "If your task is similar to the task the model of the checkpoint was trained on, you can already use XLMRobertaForTokenClassification for predictions without further training.\n",
            "No `TrainingArguments` passed, using `output_dir=tmp_trainer`.\n",
            "PyTorch: setting up devices\n",
            "The default value for the training argument `--report_to` will change in v5 (from all installed integrations to none). In v5, you will need to use `--report_to all` to get the same behavior as now. You should start updating your code and make this info disappear :-).\n",
            "The following columns in the test set don't have a corresponding argument in `XLMRobertaForTokenClassification.forward` and have been ignored: idx. If idx are not expected by `XLMRobertaForTokenClassification.forward`,  you can safely ignore this message.\n",
            "***** Running Prediction *****\n",
            "  Num examples = 3000\n",
            "  Batch size = 8\n",
            "/usr/local/lib/python3.8/dist-packages/torchcrf/__init__.py:249: UserWarning: where received a uint8 condition tensor. This behavior is deprecated and will be removed in a future version of PyTorch. Use a boolean condition instead. (Triggered internally at ../aten/src/ATen/native/TensorCompare.cpp:413.)\n",
            "  score = torch.where(mask[i].unsqueeze(1), next_score, score)\n"
          ]
        },
        {
          "output_type": "display_data",
          "data": {
            "text/plain": [
              "<IPython.core.display.HTML object>"
            ],
            "text/html": []
          },
          "metadata": {}
        }
      ]
    },
    {
      "cell_type": "code",
      "source": [
        "mask=np.array(word_test_data_group['label_ids_mask'].values.tolist())\n",
        "lab = np.array(datasets_train_test['test']['labels'])\n",
        "labs=[]\n",
        "for ind, l in enumerate(lab):\n",
        "  labs.append(np.where(mask[ind], l, -100))\n",
        "labs = np.array(labs).astype('int')"
      ],
      "metadata": {
        "id": "H6MHrYzgeKhy"
      },
      "execution_count": null,
      "outputs": []
    },
    {
      "cell_type": "code",
      "source": [
        "preds_list, labels_list = align_predictions(x.predictions, labs)\n",
        "print(classification_report(labels_list, preds_list, digits=4))"
      ],
      "metadata": {
        "colab": {
          "base_uri": "https://localhost:8080/"
        },
        "id": "kx9bNfymtM0N",
        "outputId": "6b2b789a-7faf-40f0-91ad-72229dc91630"
      },
      "execution_count": null,
      "outputs": [
        {
          "output_type": "stream",
          "name": "stdout",
          "text": [
            "                     precision    recall  f1-score   support\n",
            "\n",
            "                AGE     0.9572    0.9671    0.9621       578\n",
            "               DATE     0.9742    0.9848    0.9795      1647\n",
            "             GENDER     0.9697    0.9782    0.9739       458\n",
            "                JOB     0.8218    0.8266    0.8242       173\n",
            "           LOCATION     0.9319    0.9325    0.9322      4430\n",
            "               NAME     0.9538    0.9146    0.9338       316\n",
            "       ORGANIZATION     0.8617    0.8807    0.8711       771\n",
            "         PATIENT_ID     0.9744    0.9739    0.9741      1990\n",
            "SYMPTOM_AND_DISEASE     0.8441    0.8389    0.8415      1136\n",
            "     TRANSPORTATION     0.9458    0.9948    0.9697       193\n",
            "\n",
            "          micro avg     0.9338    0.9369    0.9354     11692\n",
            "          macro avg     0.9235    0.9292    0.9262     11692\n",
            "       weighted avg     0.9338    0.9369    0.9353     11692\n",
            "\n"
          ]
        }
      ]
    }
  ]
}